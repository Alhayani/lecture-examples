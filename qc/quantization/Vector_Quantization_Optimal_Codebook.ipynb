{
 "cells": [
  {
   "cell_type": "markdown",
   "metadata": {},
   "source": [
    "# Quantization Codebook of Vector Quantization\n",
    "\n",
    "This code is provided as supplementary material of the lecture Quellencodierung.\n",
    "\n",
    "This code illustrates\n",
    "* optimization of optimal codebooks using the Linde-Buzo-Gray algorithm"
   ]
  },
  {
   "cell_type": "code",
   "execution_count": 39,
   "metadata": {},
   "outputs": [],
   "source": [
    "%matplotlib inline\n",
    "import numpy as np\n",
    "import matplotlib.pyplot as plt\n",
    "from scipy.spatial import distance"
   ]
  },
  {
   "cell_type": "code",
   "execution_count": 105,
   "metadata": {},
   "outputs": [],
   "source": [
    "# parameters of the vector quantizer\n",
    "L = 2\n",
    "K = 256 # effective number of 4 bit/dimension\n",
    "\n",
    "# set seed of random number generator\n",
    "np.random.seed(24)"
   ]
  },
  {
   "cell_type": "code",
   "execution_count": 141,
   "metadata": {},
   "outputs": [],
   "source": [
    "# generate training set 1\n",
    "K_T = 100000\n",
    "training_set_circGauss = np.random.randn(K_T, L)\n",
    "\n",
    "training_set_corrGauss = np.random.multivariate_normal([0,0], [[1,0.9],[0.9,1]], K_T)"
   ]
  },
  {
   "cell_type": "code",
   "execution_count": 124,
   "metadata": {},
   "outputs": [],
   "source": [
    "def quantize(codebook, x):\n",
    "    # compute all pairs of distances\n",
    "    distances = distance.cdist(x, codebook, 'euclidean')\n",
    "\n",
    "    # find minimum distance\n",
    "    i_opt = np.argmin(distances, axis=1)\n",
    "    return i_opt\n",
    "    \n",
    "    \n",
    "# can provide initial codebook, otherwise use random one    \n",
    "def LindeBuzoGray_AlgorithmA(x,K, codebook = []):\n",
    "    K_T = x.shape[0]\n",
    "    L = x.shape[1]\n",
    "    \n",
    "    max_x = np.amax(x, axis=0)\n",
    "       \n",
    "    # random initial codebook\n",
    "    if len(codebook) == 0:\n",
    "        codebook = np.random.uniform(-max_x, max_x, (K,L))\n",
    "    \n",
    "    old_Dm = -1\n",
    "    \n",
    "    print('Generating codebook can take a while ... please wait')\n",
    "    while True:\n",
    "        # quantize\n",
    "        iopt = quantize(codebook,x)\n",
    "        xh = codebook[iopt]\n",
    "\n",
    "        # compute average distortion\n",
    "        Dm = np.mean(np.sum(np.square(x-xh),axis=1))\n",
    "\n",
    "        if np.abs(Dm-old_Dm)/Dm < 1e-6:\n",
    "            break\n",
    "        old_Dm = Dm\n",
    "        \n",
    "        # generate new codebook by replacing entries with centroids\n",
    "        for k in range(K):\n",
    "            points = np.where(iopt == k)    \n",
    "            if len(points[0]) > 0:\n",
    "                codebook[k,:] = np.mean(x[points[0],:], axis=0)\n",
    "            else:\n",
    "                # if no point is assigned to the codebook entry, means it will never get changed, we replace it with a random entry\n",
    "                codebook[k,:] = np.random.uniform(-max_x, max_x, (1,L))\n",
    "\n",
    "                \n",
    "    return codebook"
   ]
  },
  {
   "cell_type": "code",
   "execution_count": 109,
   "metadata": {},
   "outputs": [
    {
     "name": "stdout",
     "output_type": "stream",
     "text": [
      "Generating codebook can take a while ... please wait\n",
      "Generating codebook can take a while ... please wait\n"
     ]
    }
   ],
   "source": [
    "codebook_circA = LindeBuzoGray_AlgorithmA(training_set_circGauss, K)\n",
    "codebook_corrA = LindeBuzoGray_AlgorithmA(training_set_corrGauss, K)"
   ]
  },
  {
   "cell_type": "code",
   "execution_count": 112,
   "metadata": {},
   "outputs": [
    {
     "name": "stdout",
     "output_type": "stream",
     "text": [
      "(256, 2)\n"
     ]
    }
   ],
   "source": [
    "print(codebook_circA.shape)"
   ]
  },
  {
   "cell_type": "code",
   "execution_count": 136,
   "metadata": {},
   "outputs": [],
   "source": [
    "def LindeBuzoGray_AlgorithmB(x,K):\n",
    "    K_T = x.shape[0]\n",
    "    L = x.shape[1]\n",
    "    \n",
    "    max_x = np.amax(x, axis=0)\n",
    "    \n",
    "    # initial codebook: mean of all training vectors\n",
    "    kappa = 1\n",
    "    codebook = np.array([np.mean(x, axis=0)])\n",
    "    while kappa < K:\n",
    "        # choose arbitrary difference vector\n",
    "        Delta = np.random.uniform(-max_x/10, max_x/10, codebook.shape)\n",
    "        codebook = np.concatenate((codebook-Delta, codebook+Delta),axis=0)\n",
    "        \n",
    "        newcodebook = LindeBuzoGray_AlgorithmA(x, codebook.shape[0], codebook)\n",
    "        codebook = newcodebook.copy()\n",
    "        \n",
    "        kappa = 2*kappa\n",
    "    \n",
    "    return codebook"
   ]
  },
  {
   "cell_type": "code",
   "execution_count": 137,
   "metadata": {},
   "outputs": [
    {
     "name": "stdout",
     "output_type": "stream",
     "text": [
      "Generating codebook can take a while ... please wait\n",
      "Generating codebook can take a while ... please wait\n",
      "Generating codebook can take a while ... please wait\n",
      "Generating codebook can take a while ... please wait\n",
      "Generating codebook can take a while ... please wait\n",
      "Generating codebook can take a while ... please wait\n",
      "Generating codebook can take a while ... please wait\n",
      "Generating codebook can take a while ... please wait\n",
      "Generating codebook can take a while ... please wait\n",
      "Generating codebook can take a while ... please wait\n",
      "Generating codebook can take a while ... please wait\n",
      "Generating codebook can take a while ... please wait\n",
      "Generating codebook can take a while ... please wait\n",
      "Generating codebook can take a while ... please wait\n",
      "Generating codebook can take a while ... please wait\n",
      "Generating codebook can take a while ... please wait\n"
     ]
    }
   ],
   "source": [
    "codebook_circB = LindeBuzoGray_AlgorithmB(training_set_circGauss, K)\n",
    "codebook_corrB = LindeBuzoGray_AlgorithmB(training_set_corrGauss, K)"
   ]
  },
  {
   "cell_type": "code",
   "execution_count": 143,
   "metadata": {},
   "outputs": [
    {
     "data": {
      "image/png": "[encoded data removed]",
      "text/plain": [
       "<Figure size 1008x504 with 2 Axes>"
      ]
     },
     "metadata": {
      "needs_background": "light"
     },
     "output_type": "display_data"
    }
   ],
   "source": [
    "font = {'size'   : 18}\n",
    "plt.rc('font', **font)\n",
    "plt.rc('text', usetex=True)\n",
    "\n",
    "fig = plt.figure(figsize=(14, 7))\n",
    "plt.subplot(1,2,1)\n",
    "plt.scatter(codebook_circB[:,0], codebook_circB[:,1], s=3)\n",
    "plt.gca().set_aspect(aspect='equal')\n",
    "plt.xlabel('$x_1$')\n",
    "plt.ylabel('$x_2$')\n",
    "plt.xlim((-4.5,4.5))\n",
    "plt.ylim((-4.5,4.5))\n",
    "plt.title('Circular Gaussian');\n",
    "\n",
    "\n",
    "plt.subplot(1,2,2)\n",
    "plt.scatter(codebook_corrA[:,0], codebook_corrA[:,1], s=3)\n",
    "plt.gca().set_aspect(aspect='equal')\n",
    "plt.xlabel('$x_1$')\n",
    "plt.ylabel('$x_2$')\n",
    "plt.xlim((-4.5,4.5))\n",
    "plt.ylim((-4.5,4.5))\n",
    "plt.title('Correlated Gaussian');\n",
    "\n",
    "plt.savefig('figure_DST_7.16.pdf',bbox_inches='tight')"
   ]
  },
  {
   "cell_type": "code",
   "execution_count": 10,
   "metadata": {},
   "outputs": [
    {
     "data": {
      "text/plain": [
       "4.580819408102391"
      ]
     },
     "execution_count": 10,
     "metadata": {},
     "output_type": "execute_result"
    }
   ],
   "source": []
  },
  {
   "cell_type": "code",
   "execution_count": null,
   "metadata": {},
   "outputs": [],
   "source": []
  }
 ],
 "metadata": {
  "kernelspec": {
   "display_name": "Python 3",
   "language": "python",
   "name": "python3"
  },
  "language_info": {
   "codemirror_mode": {
    "name": "ipython",
    "version": 3
   },
   "file_extension": ".py",
   "mimetype": "text/x-python",
   "name": "python",
   "nbconvert_exporter": "python",
   "pygments_lexer": "ipython3",
   "version": "3.7.6"
  }
 },
 "nbformat": 4,
 "nbformat_minor": 4
}
