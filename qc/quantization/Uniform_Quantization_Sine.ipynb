{
 "cells": [
  {
   "cell_type": "markdown",
   "metadata": {},
   "source": [
    "# Illustration of Uniform Quantization\n",
    "\n",
    "This code is provided as supplementary material of the lecture Quellencodierung.\n",
    "\n",
    "This code illustrates\n",
    "* Uniform scalar quantization with midrise characteristic"
   ]
  },
  {
   "cell_type": "code",
   "execution_count": null,
   "metadata": {},
   "outputs": [],
   "source": [
    "%matplotlib inline\n",
    "import matplotlib.pyplot as plt\n",
    "import numpy as np\n",
    "import librosa\n",
    "import librosa.display\n",
    "import IPython.display as ipd"
   ]
  },
  {
   "cell_type": "markdown",
   "metadata": {},
   "source": [
    "Generate artificial signal\n",
    "$$\n",
    "x[k] = \\sin\\left(2\\pi\\frac{2k}{f_s}\\right),\\qquad k = 0,\\ldots,f_s\n",
    "$$"
   ]
  },
  {
   "cell_type": "code",
   "execution_count": null,
   "metadata": {},
   "outputs": [],
   "source": [
    "sr = 22050 # sample rate\n",
    "T = 1.0    # seconds\n",
    "t = np.linspace(0, T, int(T*sr), endpoint=False) # time variable\n",
    "x = np.sin(2*np.pi*2*t)                # pure sine wave at 2 Hz"
   ]
  },
  {
   "cell_type": "markdown",
   "metadata": {},
   "source": [
    "Uniform Quantization"
   ]
  },
  {
   "cell_type": "code",
   "execution_count": null,
   "metadata": {},
   "outputs": [],
   "source": [
    "# Sample to 4 bit ... 16 quantization levels\n",
    "w = 4\n",
    "\n",
    "# fix x_max based on the current signal, leave some tiny room\n",
    "x_max = np.max(x) + 1e-10\n",
    "Delta_x = x_max / (2**(w-1))\n",
    "\n",
    "xh_max = (2**w-1)*Delta_x/2\n",
    "\n",
    "# Quantize\n",
    "xh_uniform_midrise = np.sign(x)*Delta_x*(np.floor(np.abs(x)/Delta_x)+0.5) "
   ]
  },
  {
   "cell_type": "code",
   "execution_count": null,
   "metadata": {},
   "outputs": [],
   "source": [
    "plt.figure(figsize=(6, 6))\n",
    "plt.subplot(3,1,1)\n",
    "plt.plot(range(len(t)),x)\n",
    "plt.autoscale(enable=True, axis='x', tight=True)\n",
    "#plt.title('Original')\n",
    "plt.xlabel('k')\n",
    "plt.ylabel('$x[k]$')\n",
    "plt.ylim((-1.1,+1.1))\n",
    "\n",
    "plt.subplot(3,1,2)\n",
    "plt.plot(range(len(t)),xh_uniform_midrise)\n",
    "plt.autoscale(enable=True, axis='x', tight=True)\n",
    "#plt.title('Quantized')\n",
    "plt.xlabel('k')\n",
    "plt.ylabel('$\\hat{x}[k]$')\n",
    "plt.ylim((-1.1,+1.1))\n",
    "\n",
    "plt.subplot(3,1,3)\n",
    "plt.plot(range(len(t)),x-xh_uniform_midrise)\n",
    "plt.autoscale(enable=True, axis='x', tight=True)\n",
    "#plt.title('Quantization error signal')\n",
    "plt.xlabel('k')\n",
    "plt.ylabel('$e[k]$')\n",
    "plt.ylim((-1.1,+1.1))\n",
    "\n",
    "plt.tight_layout()\n",
    "plt.savefig('figure_DST_7.2c.pdf',bbox_inches='tight')"
   ]
  },
  {
   "cell_type": "code",
   "execution_count": null,
   "metadata": {},
   "outputs": [],
   "source": []
  }
 ],
 "metadata": {
  "kernelspec": {
   "display_name": "Python 3",
   "language": "python",
   "name": "python3"
  },
  "language_info": {
   "codemirror_mode": {
    "name": "ipython",
    "version": 3
   },
   "file_extension": ".py",
   "mimetype": "text/x-python",
   "name": "python",
   "nbconvert_exporter": "python",
   "pygments_lexer": "ipython3",
   "version": "3.7.6"
  }
 },
 "nbformat": 4,
 "nbformat_minor": 4
}
