{
 "cells": [
  {
   "cell_type": "markdown",
   "metadata": {},
   "source": [
    "# Vergleich Binomial- und Possionverteilung\n",
    "\n",
    "Dieser interaktive Plot zeigt die Einzelwarhscheinlichkeiten beider Verteilungen im Vergleich\n",
    "(interaktives nur lokal - nicht im web)."
   ]
  },
  {
   "cell_type": "code",
   "execution_count": null,
   "metadata": {
    "collapsed": false
   },
   "outputs": [],
   "source": [
    "%matplotlib inline\n",
    "import matplotlib.pyplot as plt\n",
    "from IPython.html.widgets import interact\n",
    "from math import exp\n",
    "\n",
    "def binom(n, k):\n",
    "    \"\"\"Binomialkoeffizient (vereinfacht)\"\"\"\n",
    "    result = 1\n",
    "    for n, k in zip(range(n, 0, -1), range(k, 0, -1)):\n",
    "        result *= n / k\n",
    "    return result\n",
    "\n",
    "def draw(n=200, log_p=-2):\n",
    "    \"\"\"Dichten berechnen und plotten\"\"\"\n",
    "    p = 10 ** log_p\n",
    "    λ = p * n\n",
    "    x = list(range(n + 1))\n",
    "    # Dichte der Binomialverteilung\n",
    "    fb = [binom(n, k) * p**k * (1 - p)**(n - k) for k in x]\n",
    "    # Dichte der Poissonverteilung\n",
    "    fp = [exp(-λ)] * len(x)\n",
    "    for k in x[1:]:\n",
    "        fp[k] = λ / k * fp[k - 1] \n",
    "\n",
    "    plt.figure(figsize=(16, 6))\n",
    "    plt.plot(x, fb, 'ro--', label='Binomial')\n",
    "    plt.plot(x, fp, 'bo--', label='Poisson')\n",
    "    plt.xlim(0, 20 if λ < 20 else 100)\n",
    "    plt.legend()\n",
    "    plt.xlabel('k')\n",
    "    plt.ylabel('P(X=k)')\n",
    "\n",
    "interact(draw, n=(40, 500, 10), log_p=(-3, -0.4, 0.2));"
   ]
  }
 ],
 "metadata": {
  "kernelspec": {
   "display_name": "Python 3",
   "language": "python",
   "name": "python3"
  },
  "language_info": {
   "codemirror_mode": {
    "name": "ipython",
    "version": 3
   },
   "file_extension": ".py",
   "mimetype": "text/x-python",
   "name": "python",
   "nbconvert_exporter": "python",
   "pygments_lexer": "ipython3",
   "version": "3.5.0"
  }
 },
 "nbformat": 4,
 "nbformat_minor": 0
}
