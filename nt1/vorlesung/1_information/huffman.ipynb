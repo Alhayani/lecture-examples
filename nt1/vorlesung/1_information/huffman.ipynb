{
 "cells": [
  {
   "cell_type": "markdown",
   "metadata": {
    "slideshow": {
     "slide_type": "slide"
    }
   },
   "source": [
    "# Content and Objectives"
   ]
  },
  {
   "cell_type": "markdown",
   "metadata": {},
   "source": [
    "+ Realizing Huffman encoding by a recursive function constructing of the Huffman tree\n",
    "+ Application of this function to several examples "
   ]
  },
  {
   "cell_type": "markdown",
   "metadata": {},
   "source": [
    "# Import"
   ]
  },
  {
   "cell_type": "code",
   "execution_count": 1,
   "metadata": {},
   "outputs": [],
   "source": [
    "# importing\n",
    "import numpy as np"
   ]
  },
  {
   "cell_type": "markdown",
   "metadata": {},
   "source": [
    "# Recursive implementation of Huffman"
   ]
  },
  {
   "cell_type": "code",
   "execution_count": 2,
   "metadata": {
    "slideshow": {
     "slide_type": "slide"
    }
   },
   "outputs": [],
   "source": [
    "# Huffman function\n",
    "def huffman_recursive( symb_dict, show_steps = 0 ):\n",
    "    '''\n",
    "    Recursive implementation of Huffman coding\n",
    "    partly according to: https://gist.github.com/mreid/fdf6353ec39d050e972b\n",
    "    \n",
    "    Note: For convenience the two most unlikely symbols are at the beginning/the first indices of the dict\n",
    "    \n",
    "    IN: symb_dict ( dictionary of { letter : probability } )\n",
    "        show_steps ( boolean allowing output of intermediate codes/intermediate steps )\n",
    "    \n",
    "    OUT: code_dict (dict of shape { letter: codeword } )\n",
    "    '''\n",
    "    \n",
    "    # check that probability equals 1.0 (approximately) \n",
    "    np.testing.assert_almost_equal( sum( symb_dict.values() ), 1.0 )\n",
    "  \n",
    "\n",
    "    # if length equals 2 use 1 bit,\n",
    "    # the shorter sequence obtaining leading 0\n",
    "    if len( symb_dict) == 2:\n",
    "        \n",
    "        # compare sequence lengths and return coding ( shorter sequence coded by leading 0 )\n",
    "        if len( list( symb_dict.keys() )[1] ) > len( list( symb_dict.keys() )[0] ):\n",
    "            return dict( zip( symb_dict.keys(), ['1', '0' ] ) )\n",
    "        \n",
    "        else:         \n",
    "            return dict( zip( symb_dict.keys(), ['0', '1' ] ) )      \n",
    "  \n",
    "\n",
    "    # copy dict\n",
    "    symb_dict_new = symb_dict.copy() \n",
    "       \n",
    "    # sort dict w.r.t. increasing probability\n",
    "    #\n",
    "    # NOTE: lambda is an on-the-fly definition of a function of syntax \"lambda with variables: do\";\n",
    "    # so lambda t: t[1] simply gets second element of t\n",
    "    symb_dict_new_sorted = sorted( symb_dict_new.items(), key=lambda t: t[1])\n",
    "    \n",
    "    # if activated, show intermediate dicts for illustration \n",
    "    if show_steps:\n",
    "        dict_for_printing = [ ( key, round(val, 4) ) for key, val in symb_dict_new_sorted ]\n",
    "        print( dict_for_printing )\n",
    "        print( )\n",
    "    \n",
    "    # find two least probable symbols\n",
    "    # NOTE: - [ i ] gives a dict entry; \n",
    "    #       - [ i ][ 0 ] gives the key of the dict entry, corresponding to the symbol\n",
    "    s_N_1 = symb_dict_new_sorted[ 1 ][ 0 ]\n",
    "    s_N = symb_dict_new_sorted[ 0 ][ 0 ]\n",
    "\n",
    "    # pop according entries and create a new one with sum probability\n",
    "    # key is concatenation of the old symbols\n",
    "    p_N_1 = symb_dict_new.pop( s_N_1 )\n",
    "    p_N = symb_dict_new.pop( s_N )\n",
    "    \n",
    "    symb_dict_new[ s_N + s_N_1 ] = p_N + p_N_1\n",
    "    \n",
    "    \n",
    "    # apply recursion for the reduced symbol set\n",
    "    code_dict = huffman_recursive( symb_dict_new, show_steps )\n",
    "    \n",
    "    \n",
    "    # get codeword and append '1'/'0' for going up/down respectively\n",
    "    cw = code_dict.pop( s_N + s_N_1 )\n",
    "\n",
    "    code_dict[ s_N_1 ] = cw + '1'    \n",
    "    code_dict[ s_N ] = cw + '0'\n",
    "    \n",
    "    return code_dict"
   ]
  },
  {
   "cell_type": "markdown",
   "metadata": {
    "collapsed": true,
    "slideshow": {
     "slide_type": "slide"
    }
   },
   "source": [
    "# Applying Huffman function to different examples"
   ]
  },
  {
   "cell_type": "code",
   "execution_count": 3,
   "metadata": {},
   "outputs": [
    {
     "name": "stdout",
     "output_type": "stream",
     "text": [
      "-------------------------\n",
      "Huffman coding: \n",
      "\n",
      " [('a', '0001'), ('b', '001110'), ('c', '00000'), ('d', '1101'), ('e', '011'), ('f', '001100'), ('g', '11101'), ('h', '1001'), ('i', '0101'), ('j', '001101101'), ('k', '110001'), ('l', '00001'), ('m', '11100'), ('n', '101'), ('o', '11001'), ('p', '0011010'), ('q', '00110110010'), ('r', '0010'), ('s', '0100'), ('t', '1111'), ('u', '1000'), ('v', '00110111'), ('w', '001111'), ('x', '00110110011'), ('y', '0011011000'), ('z', '110000')]\n",
      "\n",
      "-------------------------\n",
      "Average codeword length: \tL = 4.10\n",
      "Entropy: \t\t\tH(X) = 4.062887639566763\n",
      "Max. Entropie: \t\t\tH0 = 4.70\n"
     ]
    }
   ],
   "source": [
    "# two booleans for \n",
    "# choosing example to be used and \n",
    "# choosing whether or not showing intermediate results of Huffman\n",
    "example = 1\n",
    "show_intermediate_steps = False\n",
    "\n",
    "if example == 1:\n",
    "    # letters of german alphabet\n",
    "    # probability of letters in percent\n",
    "    # source: https://de.wikipedia.org/wiki/Buchstabenhaeufigkeit\n",
    "    letters_raw = (\n",
    "            ('a', 6.51), ('b', 1.89), ('c', 3.06), ('d', 5.08), ('e', 17.40), \n",
    "            ('f', 1.66), ('g', 3.01), ('h', 4.76), ('i', 7.55), ('j', 0.27), \n",
    "            ('k', 1.21), ('l', 3.44), ('m', 2.53), ('n', 9.78), ('o', 2.51), \n",
    "            ('p', 0.79), ('q', 0.02), ('r', 7.00), ('s', 7.27), ('t', 6.15), \n",
    "            ('u', 4.35), ('v', 0.67), ('w', 1.89), ('x', 0.03), ('y', 0.04), \n",
    "            ('z', 1.13)\n",
    "        ) \n",
    "\n",
    "elif example == 2:\n",
    "    # symbols as in the lecture\n",
    "    letters_raw = (\n",
    "        ('x1', .25), ('x2', .2), ('x3', .2), ('x4', .15), ('x5', .07),\n",
    "        ('x6', .05), ('x7', .025), ('x8', .025), ('x9', .02), ('x10', .01)\n",
    "        )\n",
    "    \n",
    "# elif example == 3:\n",
    "    #\n",
    "    # add your own example here!\n",
    "    #letters_raw = (\n",
    "    # \n",
    "    #)\n",
    "\n",
    "    \n",
    "# transform to dict and normalize to have sum equal to 1\n",
    "symb_dict = dict( (x,y) for (x,y) in letters_raw )\n",
    "\n",
    "s = sum( symb_dict.values() )   \n",
    "symb_dict.update( (key, val / s ) for key, val in symb_dict.items() )    \n",
    "\n",
    "      \n",
    "# apply Huffman function defined above\n",
    "code = huffman_recursive( symb_dict , show_intermediate_steps )\n",
    "\n",
    "# print various information\n",
    "print('-------------------------')\n",
    "\n",
    "print('Huffman coding: \\n\\n {}\\n'.format( sorted( code.items(), key=lambda t: t[0] ) ) )\n",
    "\n",
    "# determine average codeword length\n",
    "L = 0\n",
    "for l, p in symb_dict.items():\n",
    "    L += p * len( code[ l ] )\n",
    "\n",
    "    \n",
    "print('-------------------------')\n",
    "\n",
    "print('Average codeword length: \\tL = {:2.2f}'.format( L ) )\n",
    "\n",
    "p_letters = list( symb_dict.values() )\n",
    "print('Entropy: \\t\\t\\tH(X) = {}'.format( - np.sum( p_letters * np.log2( p_letters ) ) ) )\n",
    "\n",
    "print('Max. Entropie: \\t\\t\\tH0 = {:2.2f}'.format( np.log2(len(p_letters))) )"
   ]
  },
  {
   "cell_type": "markdown",
   "metadata": {
    "slideshow": {
     "slide_type": "slide"
    }
   },
   "source": [
    "# Huffman-Coding of pre-defined text"
   ]
  },
  {
   "cell_type": "markdown",
   "metadata": {},
   "source": [
    "<b>Remark:</b> For this to work, example 1 above has to be chosen."
   ]
  },
  {
   "cell_type": "code",
   "execution_count": 4,
   "metadata": {},
   "outputs": [
    {
     "name": "stdout",
     "output_type": "stream",
     "text": [
      "-------------------------\n",
      "Original text: nachrichtentechnikisttoll\n",
      "\n",
      "Number of letters: 25\n",
      "\n",
      "\n",
      "Coded: 1010001000001001001001010000010011111011101111101100000100110101011100010101010011111111110010000100001\n",
      "\n",
      "Bits with Huffman: 103\n",
      "\n",
      "\n",
      "Decoded: nachrichtentechnikisttoll\n"
     ]
    }
   ],
   "source": [
    "# define text\n",
    "text = 'nachrichtentechnik ist toll'\n",
    "\n",
    "# remove spaces\n",
    "text_clean = text.replace(' ', '')\n",
    "\n",
    "# code text by simply parsing symbols and concatenating according codewords\n",
    "# requires previous sections to be completed\n",
    "coded_text = []\n",
    "for t in text_clean:\n",
    "    coded_text.append( code[ t ] )  \n",
    "\n",
    "# switch keys and values for decoding\n",
    "decode = dict( (v, k) for (k, v) in code.items() )\n",
    "\n",
    "# decode by parsing codewords and using \"inverse dict\"\n",
    "decoded_text = []\n",
    "for c in coded_text:\n",
    "    decoded_text += decode[ c ]\n",
    "    \n",
    "\n",
    "# transform decoded list to string\n",
    "decoded_str = ''.join( decoded_text )\n",
    "\n",
    "# print various information\n",
    "print('-------------------------')\n",
    "\n",
    "print('Original text: {}\\n'.format( text_clean ) )\n",
    "\n",
    "print('Number of letters: {}\\n\\n'.format( len( text_clean ) ) )\n",
    "\n",
    "print('Coded: {}\\n'.format( ''.join( coded_text ) ) )\n",
    "\n",
    "print('Bits with Huffman: {}\\n\\n'.format( len( ''.join( coded_text ) ) ) )\n",
    "\n",
    "print('Decoded: {}'.format( decoded_str ) )\n"
   ]
  },
  {
   "cell_type": "code",
   "execution_count": null,
   "metadata": {},
   "outputs": [],
   "source": []
  }
 ],
 "metadata": {
  "kernelspec": {
   "display_name": "Python 3 (Spyder)",
   "language": "python3",
   "name": "python3"
  },
  "language_info": {
   "codemirror_mode": {
    "name": "ipython",
    "version": 3
   },
   "file_extension": ".py",
   "mimetype": "text/x-python",
   "name": "python",
   "nbconvert_exporter": "python",
   "pygments_lexer": "ipython3",
   "version": "3.6.5"
  }
 },
 "nbformat": 4,
 "nbformat_minor": 1
}
