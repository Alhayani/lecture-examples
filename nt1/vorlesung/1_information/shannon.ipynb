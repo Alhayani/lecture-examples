{
 "cells": [
  {
   "cell_type": "markdown",
   "metadata": {},
   "source": [
    "# Import"
   ]
  },
  {
   "cell_type": "code",
   "execution_count": 1,
   "metadata": {
    "collapsed": true
   },
   "outputs": [],
   "source": [
    "import numpy as np"
   ]
  },
  {
   "cell_type": "markdown",
   "metadata": {},
   "source": [
    "# Shannon Coding"
   ]
  },
  {
   "cell_type": "code",
   "execution_count": 2,
   "metadata": {
    "collapsed": false
   },
   "outputs": [
    {
     "name": "stdout",
     "output_type": "stream",
     "text": [
      "Probabilities:\n",
      "p = [ 0.25   0.2    0.2    0.15   0.07   0.05   0.025  0.025  0.02   0.01 ]\n",
      "\n",
      "Codeword lengths:\n",
      "L(x_n) = [2 3 3 3 4 5 6 6 6 7]\n"
     ]
    }
   ],
   "source": [
    "# probability of symbols\n",
    "p = np.array( [ .25, .2, .2, .15, .07, .05, .025, .025, .02, .01] )\n",
    "    \n",
    "# get codeword lengths by rounding towards 0 and mapping to int\n",
    "# (type conversion being necessary to use cw_lengths as indices)\n",
    "cw_lengths = np.ceil( -np.log2( p ) )\n",
    "cw_lengths = cw_lengths.astype( int )\n",
    "\n",
    "# show probabilities and codewords lengths\n",
    "print( 'Probabilities:' )\n",
    "print( 'p = {}\\n'.format( p ) )\n",
    "\n",
    "print( 'Codeword lengths:' )\n",
    "print( 'L(x_n) = {}'.format( cw_lengths ) )"
   ]
  },
  {
   "cell_type": "code",
   "execution_count": 3,
   "metadata": {
    "collapsed": true
   },
   "outputs": [],
   "source": [
    "# function for determining the binary representation of a float\n",
    "# using predefined number of fractional bits\n",
    "\n",
    "def get_bin ( q, L):\n",
    "    '''\n",
    "    Multiplying by 2^L, rounding and transforming to bits\n",
    "    '''\n",
    "\n",
    "    q_up = int( q * 2**L )\n",
    "\n",
    "    q_bin = np.binary_repr( q_up, width = L )\n",
    "    \n",
    "    return q_bin[ : L ]"
   ]
  },
  {
   "cell_type": "code",
   "execution_count": 4,
   "metadata": {
    "collapsed": false
   },
   "outputs": [
    {
     "name": "stdout",
     "output_type": "stream",
     "text": [
      "Codewords are:\n",
      "['00', '010', '011', '101', '1100', '11011', '111010', '111100', '111110', '1111110']\n"
     ]
    }
   ],
   "source": [
    "# get cdf\n",
    "# NOTE: 0 is pre-pended in order to realize Q_n = \\sum_i=1^n-1 P(x_i)\n",
    "F = np.cumsum( np.append( 0, p ) )\n",
    "\n",
    "codewords = [ get_bin( F[ i ] , cw_lengths[ i ] ) for i in range( len( p ) ) ]\n",
    "\n",
    "# printing\n",
    "print('Codewords are:\\n{}'.format( codewords ) )"
   ]
  },
  {
   "cell_type": "code",
   "execution_count": 5,
   "metadata": {
    "collapsed": false
   },
   "outputs": [
    {
     "name": "stdout",
     "output_type": "stream",
     "text": [
      "Max. Entropie: \t\t\tH0 = 3.322\n",
      "Entropy: \t\t\tH(X) = 2.769\n",
      "Average codeword length: \tL = 3.170\n"
     ]
    }
   ],
   "source": [
    "# Printing various information\n",
    "\n",
    "print('Max. Entropie: \\t\\t\\tH0 = {:2.3f}'.format( np.log2(len(p))) )\n",
    "\n",
    "print('Entropy: \\t\\t\\tH(X) = {:2.3f}'.format( -np.sum( p * np.log2( p ) ) ) )\n",
    "\n",
    "# get and print average codeword length\n",
    "L = np.sum( [ len( codewords[i] ) * p[i] for i in range(len(p)) ] )\n",
    "\n",
    "print('Average codeword length: \\tL = {:2.3f}'.format( L ) )"
   ]
  },
  {
   "cell_type": "markdown",
   "metadata": {},
   "source": [
    "# Now optimizing the codewords to better approach entropy"
   ]
  },
  {
   "cell_type": "code",
   "execution_count": 6,
   "metadata": {
    "collapsed": true
   },
   "outputs": [],
   "source": [
    "###\n",
    "# you may, for example, optimize the generated code by eliminating\n",
    "# unnecessary bits\n",
    "###\n",
    "\n",
    "# your code ###"
   ]
  },
  {
   "cell_type": "code",
   "execution_count": null,
   "metadata": {
    "collapsed": true
   },
   "outputs": [],
   "source": []
  }
 ],
 "metadata": {
  "kernelspec": {
   "display_name": "Python 3",
   "language": "python",
   "name": "python3"
  },
  "language_info": {
   "codemirror_mode": {
    "name": "ipython",
    "version": 3
   },
   "file_extension": ".py",
   "mimetype": "text/x-python",
   "name": "python",
   "nbconvert_exporter": "python",
   "pygments_lexer": "ipython3",
   "version": "3.6.0"
  }
 },
 "nbformat": 4,
 "nbformat_minor": 2
}
