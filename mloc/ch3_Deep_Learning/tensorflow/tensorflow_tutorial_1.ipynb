{
 "cells": [
  {
   "cell_type": "markdown",
   "metadata": {},
   "source": [
    "# Tensorflow Tutorial - Part 1\n",
    "\n",
    "This code is provided as supplementary material of the lecture Machine Learning and Optimization in Communications (MLOC).<br>\n",
    "\n",
    "This code illustrates\n",
    "* Get accustomed to the basics of tensorflow \n",
    "* Contruct graphs and interface them with placeholders"
   ]
  },
  {
   "cell_type": "markdown",
   "metadata": {},
   "source": [
    "Import tensorflow library"
   ]
  },
  {
   "cell_type": "code",
   "execution_count": 2,
   "metadata": {
    "pycharm": {
     "is_executing": false
    }
   },
   "outputs": [
    {
     "name": "stdout",
     "output_type": "stream",
     "text": [
      "Tensorflow version 1.13.1\n"
     ]
    }
   ],
   "source": [
    "import tensorflow as tf\n",
    "import numpy as np\n",
    "\n",
    "print('Tensorflow version', tf.__version__)"
   ]
  },
  {
   "cell_type": "markdown",
   "metadata": {},
   "source": [
    "Specify operations, i.e., the computation graph. Here we add two vectors that are given by two constants `a` and `b` and stored in a result file."
   ]
  },
  {
   "cell_type": "code",
   "execution_count": 3,
   "metadata": {
    "pycharm": {
     "is_executing": false
    }
   },
   "outputs": [
    {
     "name": "stdout",
     "output_type": "stream",
     "text": [
      "Tensor(\"Mul:0\", shape=(3,), dtype=float32)\n"
     ]
    }
   ],
   "source": [
    "a = tf.constant([1,2,3], dtype=tf.float32)\n",
    "b = tf.constant([5,6,7], dtype=tf.float32)\n",
    "result = tf.multiply(a,b)\n",
    "print(a)\n",
    "print(b)\n",
    "print(result)"
   ]
  },
  {
   "cell_type": "markdown",
   "metadata": {},
   "source": [
    "We can see that the objects `a`, `b`, and `c` are Tensorflow-objects that are objects and do not carry the result as such.  We have built a *computation graph* linking variables `a` and `b` to the `result` via the (element-wise) multiplication. \n",
    "\n",
    "*** \n",
    "\n",
    "The computation graph only specifies the operations, but doesn't do the computations. The computations as such are carried out in a session. We can start a session and then `run` the session obtaining the result. Note that the session only carries out the computations that we specify, and so that we can save complexity."
   ]
  },
  {
   "cell_type": "code",
   "execution_count": 4,
   "metadata": {
    "pycharm": {
     "is_executing": false
    }
   },
   "outputs": [
    {
     "name": "stdout",
     "output_type": "stream",
     "text": [
      "[ 5. 12. 21.]\n"
     ]
    }
   ],
   "source": [
    "with tf.Session() as session:\n",
    "    output = session.run(result)\n",
    "    print(output)"
   ]
  },
  {
   "cell_type": "markdown",
   "metadata": {
    "pycharm": {
     "name": "#%% md\n"
    }
   },
   "source": [
    "So far, we have generated two constants that we have multiplied. This is not very exciting and pretty static. In order to manipulate with the outside world, we need an interface concept. Interfacing to the outside world is done using `tf.placeholder` which is a placeholder for an input tensor. We can then manipulate this input tensor in any way we like."
   ]
  },
  {
   "cell_type": "code",
   "execution_count": 9,
   "metadata": {
    "pycharm": {
     "is_executing": false,
     "name": "#%% \n"
    }
   },
   "outputs": [],
   "source": [
    "# this vector is a scalar\n",
    "x = tf.placeholder(tf.float32)\n",
    "\n",
    "# this placeholder is a tensor with a single dimension and 2 entries\n",
    "y = tf.placeholder(shape=(2), dtype=tf.float32)\n",
    "\n",
    "# add a constanht\n",
    "z = tf.constant([1,2], dtype=tf.float32)\n",
    "\n",
    "# compute dot product between y and z and add x. Note that we can either use tf.add or use the `+` sign\n",
    "result2 = tf.tensordot(z, y, 2) +x"
   ]
  },
  {
   "cell_type": "markdown",
   "metadata": {},
   "source": [
    "The placeholders are passed to the session via the `feed_dict` data structure"
   ]
  },
  {
   "cell_type": "code",
   "execution_count": 12,
   "metadata": {
    "pycharm": {
     "is_executing": false,
     "name": "#%%\n"
    }
   },
   "outputs": [
    {
     "name": "stdout",
     "output_type": "stream",
     "text": [
      "8.5\n"
     ]
    }
   ],
   "source": [
    "with tf.Session() as session:\n",
    "    output = session.run(result2, feed_dict = {x: 1.5, y: [1,3]})\n",
    "    print(output)"
   ]
  }
 ],
 "metadata": {
  "file_extension": ".py",
  "kernelspec": {
   "display_name": "Python 3",
   "language": "python",
   "name": "python3"
  },
  "language_info": {
   "codemirror_mode": {
    "name": "ipython",
    "version": 3
   },
   "file_extension": ".py",
   "mimetype": "text/x-python",
   "name": "python",
   "nbconvert_exporter": "python",
   "pygments_lexer": "ipython3",
   "version": "3.6.8"
  },
  "mimetype": "text/x-python",
  "name": "python",
  "npconvert_exporter": "python",
  "pycharm": {
   "stem_cell": {
    "cell_type": "raw",
    "metadata": {
     "collapsed": false
    },
    "source": []
   }
  },
  "pygments_lexer": "ipython3",
  "version": 3
 },
 "nbformat": 4,
 "nbformat_minor": 2
}
