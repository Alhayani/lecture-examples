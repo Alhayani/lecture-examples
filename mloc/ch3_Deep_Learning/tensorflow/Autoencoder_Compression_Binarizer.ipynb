{
 "cells": [
  {
   "cell_type": "markdown",
   "metadata": {},
   "source": [
    "# Image Compression using Autoencoders with BPSK\n",
    "\n",
    "This code is provided as supplementary material of the lecture Machine Learning and Optimization in Communications (MLOC).<br>\n",
    "\n",
    "This code illustrates\n",
    "* joint compression and error protection of images by auto-encoders\n",
    "* generation of BPSK symbols using stochastic quantizers\n",
    "* transmission over a binary symmetric channel (BSC)"
   ]
  },
  {
   "cell_type": "code",
   "execution_count": 1,
   "metadata": {},
   "outputs": [],
   "source": [
    "import tensorflow as tf\n",
    "import numpy as np\n",
    "from matplotlib import pyplot as plt"
   ]
  },
  {
   "cell_type": "markdown",
   "metadata": {},
   "source": [
    "Import and load MNIST dataset"
   ]
  },
  {
   "cell_type": "code",
   "execution_count": 2,
   "metadata": {},
   "outputs": [],
   "source": [
    "mnist = tf.keras.datasets.mnist\n",
    "\n",
    "# only load the images, we are not interested in the training data\n",
    "(x_train, _),(x_test, _) = mnist.load_data()\n",
    "x_train, x_test = x_train / 255.0, x_test / 255.0\n",
    "\n",
    "image_size = x_train.shape[1]\n",
    "\n",
    "x_test_flat = np.array([np.reshape(x_test[k,:,:], image_size*image_size) for k in range(x_test.shape[0])])"
   ]
  },
  {
   "cell_type": "code",
   "execution_count": 3,
   "metadata": {},
   "outputs": [
    {
     "data": {
      "image/png": "[encoded data removed]",
      "text/plain": [
       "<Figure size 1152x144 with 8 Axes>"
      ]
     },
     "metadata": {},
     "output_type": "display_data"
    }
   ],
   "source": [
    "#print 8 random images\n",
    "plt.figure(figsize=(16,2))\n",
    "for k in range(8):\n",
    "    plt.subplot(1,8,k+1)\n",
    "    plt.imshow(x_train[np.random.randint(x_train.shape[0])], interpolation='nearest', cmap='binary')\n",
    "    plt.xticks(())\n",
    "    plt.yticks(())"
   ]
  },
  {
   "cell_type": "code",
   "execution_count": 5,
   "metadata": {},
   "outputs": [],
   "source": [
    "# target compression rate\n",
    "bit_per_image = 24\n",
    "\n",
    "# BSC error probability\n",
    "Pe = 0.05\n",
    "\n",
    "\n",
    "# Network parameters\n",
    "hidden_encoder_1 = 500\n",
    "hidden_encoder_2 = 250\n",
    "hidden_encoder_3 = 100\n",
    "\n",
    "hidden_decoder_1 = 100\n",
    "hidden_decoder_2 = 250\n",
    "hidden_decoder_3 = 500\n",
    "\n",
    "tf.reset_default_graph()\n",
    "\n",
    "training_data = tf.placeholder(tf.float32, [None, image_size*image_size])\n",
    "\n",
    "valid_data = tf.constant(x_test_flat, dtype=tf.float32)\n",
    "\n",
    "\n",
    "weights = { 'We1' : tf.Variable(tf.truncated_normal([image_size*image_size, hidden_encoder_1], stddev=0.1)),\n",
    "            'We2' : tf.Variable(tf.truncated_normal([hidden_encoder_1, hidden_encoder_2], stddev=0.1)),\n",
    "            'We3' : tf.Variable(tf.truncated_normal([hidden_encoder_2, hidden_encoder_3], stddev=0.1)),\n",
    "            'We4' : tf.Variable(tf.truncated_normal([hidden_encoder_3, bit_per_image], stddev=0.1)),\n",
    "            'Wd1' : tf.Variable(tf.truncated_normal([bit_per_image, hidden_decoder_1], stddev=0.1)),\n",
    "            'Wd2' : tf.Variable(tf.truncated_normal([hidden_decoder_1, hidden_decoder_2], stddev=0.1)),\n",
    "            'Wd3' : tf.Variable(tf.truncated_normal([hidden_decoder_2, hidden_decoder_3], stddev=0.1)),\n",
    "            'Wd4' : tf.Variable(tf.truncated_normal([hidden_decoder_3, image_size*image_size], stddev=0.1)),\n",
    "          }\n",
    "\n",
    "biases = {  'be1' : tf.Variable(tf.truncated_normal([hidden_encoder_1], stddev=0.1)),\n",
    "            'be2' : tf.Variable(tf.truncated_normal([hidden_encoder_2], stddev=0.1)),\n",
    "            'be3' : tf.Variable(tf.truncated_normal([hidden_encoder_3], stddev=0.1)),\n",
    "            'be4' : tf.Variable(tf.truncated_normal([bit_per_image], stddev=0.1)),\n",
    "            'bd1' : tf.Variable(tf.truncated_normal([hidden_decoder_1], stddev=0.1)),\n",
    "            'bd2' : tf.Variable(tf.truncated_normal([hidden_decoder_2], stddev=0.1)),\n",
    "            'bd3' : tf.Variable(tf.truncated_normal([hidden_decoder_3], stddev=0.1)),\n",
    "            'bd4' : tf.Variable(tf.truncated_normal([image_size*image_size], stddev=0.1)),\n",
    "          }\n",
    "\n",
    "def binarizer(input):\n",
    "    prob = tf.truediv(tf.add(input, 1.0), 2.0)\n",
    "    bernoulli = tf.distributions.Bernoulli(probs=prob, dtype=tf.float32)\n",
    "    return 2*bernoulli.sample() - 1\n",
    "\n",
    "def binarizer_deterministic(input):\n",
    "    return tf.sign(input)\n",
    "\n",
    "def encoder(batch):\n",
    "    temp = tf.nn.elu(tf.matmul(batch, weights['We1']) + biases['be1'])\n",
    "    temp = tf.nn.elu(tf.matmul(temp, weights['We2']) + biases['be2'])\n",
    "    temp = tf.nn.elu(tf.matmul(temp, weights['We3']) + biases['be3'])\n",
    "    output = tf.nn.softsign(tf.matmul(temp, weights['We4']) + biases['be4'])\n",
    "    return output\n",
    "\n",
    "def decoder(batch):\n",
    "    temp = tf.nn.elu(tf.matmul(batch, weights['Wd1']) + biases['bd1'])\n",
    "    temp = tf.nn.elu(tf.matmul(temp, weights['Wd2']) + biases['bd2'])\n",
    "    temp = tf.nn.elu(tf.matmul(temp, weights['Wd3']) + biases['bd3'])\n",
    "    #output = 1+0.5*tf.nn.softsign(tf.matmul(temp, weights['Wd4']) + biases['bd4'])\n",
    "    output = tf.nn.sigmoid(tf.matmul(temp, weights['Wd4']) + biases['bd4'])\n",
    "    return output\n",
    "\n",
    "encoded = encoder(training_data)\n",
    "# random binarization in training\n",
    "ti = tf.identity(encoded)\n",
    "compressed = ti + tf.stop_gradient(binarizer(encoded) - ti)\n",
    "\n",
    "# add error pattern\n",
    "error_tensor = tf.distributions.Bernoulli(probs = Pe * tf.ones_like(compressed), dtype=tf.float32).sample() \n",
    "received = tf.math.multiply( compressed, 1 - 2*error_tensor)\n",
    "\n",
    "reconstructed = decoder(received)\n",
    "\n",
    "encoded_test = encoder(valid_data)\n",
    "compressed_test = binarizer_deterministic(encoded_test)\n",
    "error_tensor_test = tf.distributions.Bernoulli(probs = Pe * tf.ones_like(compressed_test), dtype=tf.float32).sample()\n",
    "received_test = tf.math.multiply( compressed_test, 1 - 2*error_tensor_test )\n",
    "reconstructed_test = decoder(received_test)\n",
    "loss_test = tf.reduce_mean(tf.square(valid_data - reconstructed_test))\n",
    "\n",
    "reconstructed_test_noerror = decoder(compressed_test)\n",
    "\n",
    "\n",
    "loss = tf.losses.mean_squared_error(training_data, reconstructed)\n",
    "\n",
    "train_step = tf.train.AdamOptimizer().minimize(loss)\n",
    "\n",
    "init = tf.global_variables_initializer()\n",
    "\n",
    "\n",
    "# generator to reconstruct some images from generic input\n",
    "generic_input = tf.placeholder(tf.float32, [None, bit_per_image])\n",
    "generic_reconstructed = decoder(generic_input)"
   ]
  },
  {
   "cell_type": "markdown",
   "metadata": {},
   "source": [
    "Helper function to get a random mini-batch of images"
   ]
  },
  {
   "cell_type": "code",
   "execution_count": 6,
   "metadata": {},
   "outputs": [],
   "source": [
    "def get_batch(x, batch_size):\n",
    "    idxs = np.random.randint(0, x.shape[0], (batch_size))\n",
    "    return np.array([np.reshape(x[k,:,:], image_size*image_size) for k in idxs])"
   ]
  },
  {
   "cell_type": "code",
   "execution_count": 7,
   "metadata": {},
   "outputs": [
    {
     "name": "stdout",
     "output_type": "stream",
     "text": [
      "It 0: Loss 0.23889\n",
      "It 1000: Loss 0.03484\n",
      "It 2000: Loss 0.03270\n",
      "It 3000: Loss 0.03191\n",
      "It 4000: Loss 0.03090\n",
      "It 5000: Loss 0.03045\n",
      "It 6000: Loss 0.03013\n",
      "It 7000: Loss 0.02988\n",
      "It 8000: Loss 0.02972\n",
      "It 9000: Loss 0.02939\n",
      "It 10000: Loss 0.02935\n",
      "It 11000: Loss 0.02924\n",
      "It 12000: Loss 0.02903\n",
      "It 13000: Loss 0.02884\n",
      "It 14000: Loss 0.02861\n",
      "It 15000: Loss 0.02871\n",
      "It 16000: Loss 0.02856\n",
      "It 17000: Loss 0.02863\n",
      "It 18000: Loss 0.02839\n",
      "It 19000: Loss 0.02840\n",
      "It 20000: Loss 0.02834\n",
      "It 21000: Loss 0.02830\n",
      "It 22000: Loss 0.02820\n",
      "It 23000: Loss 0.02839\n",
      "It 24000: Loss 0.02821\n"
     ]
    }
   ],
   "source": [
    "batch_size = 250\n",
    "\n",
    "# Create session and initialize all variables\n",
    "session = tf.InteractiveSession()\n",
    "session.run(init)\n",
    "\n",
    "# Training loop\n",
    "for it in range(25000):  # Original paper does 50k iterations  \n",
    "    mini_batch = get_batch(x_train, batch_size)\n",
    "\n",
    "    session.run(train_step, feed_dict = { training_data : mini_batch })    \n",
    "\n",
    "    \n",
    "    if it % 1000 == 0:\n",
    "        print('It %d: Loss %1.5f' % (it, loss_test.eval()))"
   ]
  },
  {
   "cell_type": "code",
   "execution_count": 8,
   "metadata": {},
   "outputs": [
    {
     "name": "stdout",
     "output_type": "stream",
     "text": [
      "Image 1:  [1. 0. 1. 0. 0. 1. 0. 0. 1. 1. 0. 0. 1. 1. 0. 0. 0. 1. 0. 0. 1. 0. 0. 0.]\n",
      "Image 2:  [1. 1. 0. 1. 0. 0. 1. 0. 0. 1. 0. 1. 1. 1. 1. 1. 0. 0. 1. 1. 0. 0. 0. 1.]\n",
      "Image 3:  [1. 0. 1. 1. 1. 0. 1. 1. 1. 0. 0. 1. 0. 0. 1. 0. 1. 0. 0. 0. 1. 0. 1. 0.]\n",
      "Image 4:  [0. 0. 0. 1. 0. 1. 1. 0. 1. 1. 1. 0. 1. 0. 0. 1. 1. 0. 1. 1. 0. 0. 0. 1.]\n",
      "Image 5:  [1. 0. 1. 0. 0. 1. 0. 1. 1. 1. 0. 0. 1. 1. 0. 1. 1. 0. 0. 0. 1. 0. 1. 0.]\n",
      "Image 6:  [1. 0. 1. 0. 0. 0. 0. 1. 0. 1. 1. 0. 0. 1. 1. 1. 1. 1. 0. 0. 1. 1. 1. 0.]\n",
      "Image 7:  [0. 1. 1. 1. 0. 1. 1. 1. 1. 0. 1. 0. 0. 0. 0. 0. 0. 0. 0. 1. 1. 0. 1. 1.]\n",
      "Image 8:  [0. 0. 1. 1. 0. 0. 1. 0. 1. 1. 0. 0. 0. 0. 1. 1. 1. 1. 0. 1. 1. 1. 0. 1.]\n"
     ]
    },
    {
     "data": {
      "image/png": "[encoded data removed]",
      "text/plain": [
       "<Figure size 1152x288 with 16 Axes>"
      ]
     },
     "metadata": {},
     "output_type": "display_data"
    }
   ],
   "source": [
    "valid_images =  reconstructed_test.eval()\n",
    "valid_binary = 0.5*(1 - compressed_test.eval())   # from bipolar (BPSK) to binary\n",
    "# show 8 images and their reconstructed versions\n",
    "plt.figure(figsize=(16,4))\n",
    "idxs = np.random.randint(x_test.shape[0],size=8)\n",
    "for k in range(8):\n",
    "    plt.subplot(2,8,k+1)    \n",
    "    plt.imshow(np.reshape(x_test_flat[idxs[k]], (image_size,image_size)), interpolation='nearest', cmap='binary')    \n",
    "    plt.xticks(())\n",
    "    plt.yticks(())\n",
    "    \n",
    "    plt.subplot(2,8,k+1+8)\n",
    "    plt.imshow(np.reshape(valid_images[idxs[k]], (image_size,image_size)), interpolation='nearest', cmap='binary')    \n",
    "    plt.xticks(())\n",
    "    plt.yticks(())\n",
    "\n",
    "# print binary data of the images\n",
    "for k in range(8):\n",
    "    print('Image %d: ' % (k+1), valid_binary[idxs[k],:])"
   ]
  },
  {
   "cell_type": "code",
   "execution_count": 22,
   "metadata": {},
   "outputs": [
    {
     "data": {
      "image/png": "[encoded data removed]",
      "text/plain": [
       "<Figure size 1152x144 with 8 Axes>"
      ]
     },
     "metadata": {},
     "output_type": "display_data"
    }
   ],
   "source": [
    "# generate 8 arbitary images just by sampling random bit strings\n",
    "random_data = 1-2*np.random.randint(2,size=(8,bit_per_image))\n",
    "generated_images = generic_reconstructed.eval(feed_dict = { generic_input : random_data })\n",
    "plt.figure(figsize=(16,2))\n",
    "for k in range(8):\n",
    "    plt.subplot(1,8,k+1)\n",
    "    plt.imshow(np.reshape(generated_images[k],(image_size,image_size)), interpolation='nearest', cmap='binary')\n",
    "    plt.xticks(())\n",
    "    plt.yticks(())"
   ]
  },
  {
   "cell_type": "code",
   "execution_count": 136,
   "metadata": {},
   "outputs": [],
   "source": [
    "session.close()"
   ]
  }
 ],
 "metadata": {
  "kernelspec": {
   "display_name": "Python 3",
   "language": "python",
   "name": "python3"
  },
  "language_info": {
   "codemirror_mode": {
    "name": "ipython",
    "version": 3
   },
   "file_extension": ".py",
   "mimetype": "text/x-python",
   "name": "python",
   "nbconvert_exporter": "python",
   "pygments_lexer": "ipython3",
   "version": "3.6.8"
  }
 },
 "nbformat": 4,
 "nbformat_minor": 2
}
