{
 "cells": [
  {
   "cell_type": "markdown",
   "metadata": {},
   "source": [
    "# TensorFlow Tutorial - Part 3\n",
    "\n",
    "This code is provided as supplementary material of the lecture Machine Learning and Optimization in Communications (MLOC).<br>\n",
    "\n",
    "This code illustrates\n",
    "* Example of analyzing models in Tensorboard "
   ]
  },
  {
   "cell_type": "code",
   "execution_count": 7,
   "metadata": {},
   "outputs": [],
   "source": [
    "import tensorflow.compat.v1 as tf\n",
    "tf.disable_v2_behavior()\n",
    "import numpy as np\n",
    "import matplotlib.pyplot as plt\n",
    "from IPython import display\n",
    "%matplotlib inline"
   ]
  },
  {
   "cell_type": "markdown",
   "metadata": {},
   "source": [
    "Generate data coming from a simple polynomial and corrupt with noise"
   ]
  },
  {
   "cell_type": "code",
   "execution_count": 8,
   "metadata": {},
   "outputs": [
    {
     "data": {
      "image/png": "[encoded data removed]",
      "text/plain": [
       "<Figure size 432x288 with 1 Axes>"
      ]
     },
     "metadata": {
      "needs_background": "light"
     },
     "output_type": "display_data"
    }
   ],
   "source": [
    "x = np.arange(-2, 5, 0.1)\n",
    "y = x**3 - 4*x**2 - 2*x + 2\n",
    "y_noise = y + np.random.normal(0, 1.5, size=(len(x),))\n",
    "plt.close(\"all\")\n",
    "plt.plot(x, y)\n",
    "plt.scatter(x, y_noise);"
   ]
  },
  {
   "cell_type": "code",
   "execution_count": 9,
   "metadata": {},
   "outputs": [],
   "source": [
    "# simple function to get a random mini-batch\n",
    "def get_batch(x, y, batch_size=20):\n",
    "    idxs = np.random.randint(0, len(x), (batch_size))\n",
    "    return x[idxs], y[idxs]"
   ]
  },
  {
   "cell_type": "markdown",
   "metadata": {},
   "source": [
    "Attach summarizes to a variable using the following helper function. This is useful for visualizing inside Tensorboard afterwards"
   ]
  },
  {
   "cell_type": "code",
   "execution_count": 10,
   "metadata": {},
   "outputs": [],
   "source": [
    "def helper_variable_summaries(var):\n",
    "    \"\"\"Attach a lot of summaries to a Tensor (for TensorBoard visualization).\"\"\"\n",
    "    with tf.name_scope('summaries'):\n",
    "        mean = tf.reduce_mean(var)\n",
    "        tf.summary.scalar('mean', mean)\n",
    "        with tf.name_scope('stddev'):\n",
    "            stddev = tf.sqrt(tf.reduce_mean(tf.square(var - mean)))\n",
    "            tf.summary.scalar('stddev', stddev)\n",
    "            tf.summary.scalar('max', tf.reduce_max(var))\n",
    "            tf.summary.scalar('min', tf.reduce_min(var))\n",
    "            tf.summary.histogram('histogram', var)"
   ]
  },
  {
   "cell_type": "markdown",
   "metadata": {},
   "source": [
    "Define graph by model, use 2 hidden layers, one with ReLU and the other one with tanh activation (overkill for this example, but for illustration purposes).\n",
    "\n",
    "We introduce a new type of TensorFlow variables, the ones that can be trained. These belong to `tf.Variable`"
   ]
  },
  {
   "cell_type": "code",
   "execution_count": 11,
   "metadata": {},
   "outputs": [],
   "source": [
    "mini_batch_size = 10\n",
    "\n",
    "neurons_H1 = 4\n",
    "neurons_H2 = 5\n",
    "\n",
    "input_x = tf.placeholder(tf.float32, shape=(mini_batch_size),  name='input_x')\n",
    "input_y = tf.placeholder(tf.float32, shape=(mini_batch_size),  name='input_y')\n",
    "\n",
    "tf_x = tf.constant(x, dtype=tf.float32, name='x_range')\n",
    "\n",
    "# tf.truncated_normal is the initializer of the variable\n",
    "# specify the variables of our model\n",
    "with tf.name_scope('Hidden_Layer_1'):\n",
    "    with tf.name_scope('w1'):\n",
    "        w1 = tf.Variable(tf.truncated_normal([1,neurons_H1], stddev=0.8), name='W1')\n",
    "        helper_variable_summaries(w1)\n",
    "    with tf.name_scope('b1'):\n",
    "        b1 = tf.Variable(tf.truncated_normal([neurons_H1], stddev=0.8), name='b1')\n",
    "        helper_variable_summaries(b1)\n",
    "\n",
    "with tf.name_scope('Hidden_Layer_2'):\n",
    "    with tf.name_scope('W2'):\n",
    "        W2 = tf.Variable(tf.truncated_normal([neurons_H1, neurons_H2], stddev=0.8), name='W2')\n",
    "        helper_variable_summaries(W2)\n",
    "    with tf.name_scope('b2'):\n",
    "        b2 = tf.Variable(tf.truncated_normal([neurons_H2], stddev=0.8), name='b2')\n",
    "        helper_variable_summaries(b2)\n",
    "    \n",
    "with tf.name_scope('Output_Layer'):\n",
    "    with tf.name_scope('w3'):\n",
    "        w3 = tf.Variable(tf.truncated_normal([neurons_H2,1], stddev=0.8), name='w3')\n",
    "        helper_variable_summaries(w3)\n",
    "\n",
    "# build graph\n",
    "with tf.name_scope('Neural_Network'):\n",
    "    nn = tf.expand_dims(input_x, 1)\n",
    "    nn = tf.nn.tanh(tf.matmul(nn, w1)+b1, name='Tanh_H1')\n",
    "    nn = tf.nn.tanh(tf.matmul(nn, W2)+b2, name='Tanh_H2')\n",
    "    output = tf.squeeze(tf.matmul(nn,w3)) # squeeze removes the excess dimensions    \n",
    "\n",
    "    \n",
    "with tf.name_scope('Loss'):\n",
    "    loss = tf.reduce_mean(tf.pow(output-input_y,2), name='Loss')\n",
    "    tf.summary.scalar('loss',loss)\n",
    "    \n",
    "optimizer = tf.train.AdamOptimizer(name='Optimizer').minimize(loss)\n",
    "\n",
    "# build side graph that generates the output from y\n",
    "with tf.name_scope('hidden'):\n",
    "    nn = tf.expand_dims(tf_x, 1)\n",
    "    nn = tf.nn.tanh(tf.matmul(nn, w1)+b1, name='Tanh_H1_eval')\n",
    "    nn = tf.nn.tanh(tf.matmul(nn, W2)+b2, name='Tanh_H2_eval')\n",
    "    y_est = tf.squeeze(tf.matmul(nn,w3))\n",
    "\n",
    "merged = tf.summary.merge_all()"
   ]
  },
  {
   "cell_type": "code",
   "execution_count": null,
   "metadata": {
    "scrolled": false
   },
   "outputs": [],
   "source": [
    "num_iter = 100*300\n",
    "image_cycle = 300\n",
    "\n",
    "with tf.Session() as session:\n",
    "    # initialize variables\n",
    "    train_writer = tf.summary.FileWriter('./logs', tf.get_default_graph())\n",
    "    \n",
    "    tf.global_variables_initializer().run()\n",
    "\n",
    "    print('Initialized')\n",
    "    for step in range(num_iter):    \n",
    "        batch_x, batch_y = get_batch(x,y_noise, mini_batch_size)\n",
    "        feed_dict = {input_x : batch_x, input_y : batch_y}\n",
    "        summary,_ = session.run([merged,optimizer], feed_dict=feed_dict)\n",
    "        \n",
    "        if step % 10 == 0:\n",
    "            train_writer.add_summary(summary, step)\n",
    "\n",
    "        # plot result of learning\n",
    "        if step % image_cycle == 0:\n",
    "            fig,ax = plt.subplots(1,1,figsize=(5,5))        \n",
    "            plt.scatter(x, y_noise)\n",
    "            plt.plot(x, y)\n",
    "            plt.plot(x, y_est.eval())\n",
    "            display.clear_output(wait=True)\n",
    "            display.display(plt.gcf())\n",
    "            \n",
    "train_writer.close()"
   ]
  },
  {
   "cell_type": "markdown",
   "metadata": {},
   "source": [
    "Now start tensorboard from the command line with `tensorboard --logdir ./logs` from the directory (and the anaconda environment) the notebook is in and load the log file"
   ]
  }
 ],
 "metadata": {
  "kernelspec": {
   "display_name": "Python 3",
   "language": "python",
   "name": "python3"
  },
  "language_info": {
   "codemirror_mode": {
    "name": "ipython",
    "version": 3
   },
   "file_extension": ".py",
   "mimetype": "text/x-python",
   "name": "python",
   "nbconvert_exporter": "python",
   "pygments_lexer": "ipython3",
   "version": "3.7.6"
  }
 },
 "nbformat": 4,
 "nbformat_minor": 1
}
