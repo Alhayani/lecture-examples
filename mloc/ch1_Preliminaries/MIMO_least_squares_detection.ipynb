{
 "cells": [
  {
   "cell_type": "markdown",
   "metadata": {
    "collapsed": true,
    "pycharm": {
     "name": "#%% md\n"
    }
   },
   "source": [
    "# MIMO Least Squares Detection\n",
    "\n",
    "This code is provided as supplementary material of the lecture Machine Learning and Optimization in Communications (MLOC).<br>\n",
    "\n",
    "This code illustrates:\n",
    "* Toy example of MIMO Detection with constrained least-squares\n",
    "* Implementation of constrained least squares via gradient descent"
   ]
  },
  {
   "cell_type": "code",
   "execution_count": 1,
   "metadata": {
    "pycharm": {
     "is_executing": false,
     "metadata": false,
     "name": "#%%\n"
    }
   },
   "outputs": [],
   "source": [
    "import numpy as np\n",
    "import matplotlib.pyplot as plt\n",
    "%matplotlib inline "
   ]
  },
  {
   "cell_type": "markdown",
   "metadata": {
    "pycharm": {
     "metadata": false
    }
   },
   "source": [
    "We want to transmit $x$ over a MIMO channel $H\\in \\mathbb{R}^{k \\times n}$. \n",
    "The receiver measures $y$, which is the result of\n",
    "$y=Hx$. At the receiver side, we have channel state information (CSI) and therefore know $H$. \n",
    "\n",
    "Specify the simulation paramters. \n",
    "You can vary $k$ (number of receive antennas) but leave $n$ (number of transmit antennas) fixed \n",
    "if you want to get a graphical output."
   ]
  },
  {
   "cell_type": "code",
   "execution_count": 20,
   "metadata": {
    "pycharm": {
     "is_executing": false,
     "metadata": false,
     "name": "#%%\n"
    }
   },
   "outputs": [
    {
     "name": "stdout",
     "output_type": "stream",
     "text": [
      "x = [0.95745399 0.14210829]\n"
     ]
    }
   ],
   "source": [
    "n = 2 # Number of TX antennas. Leave n fixed to 2!\n",
    "k = 3 # Number of RX antennas.You can play around with k.\n",
    "x = np.random.rand(n) # Transmit data (random).\n",
    "x = x/np.linalg.norm(x) * np.random.rand() # Normalize x to a transmit energy in [0,1].\n",
    "H = np.random.randn(k, n) # MIMO channel (random).\n",
    "y = np.dot(H, x) # Apply channel to data.\n",
    "print(\"x =\",x)"
   ]
  },
  {
   "cell_type": "markdown",
   "metadata": {
    "pycharm": {
     "metadata": false,
     "name": "#%% md\n"
    }
   },
   "source": [
    "Now, we want to estimate $\\boldsymbol{x}$ by using a **Least-Square Detector**:\n",
    "$\\min\\limits_{\\boldsymbol{x}} ||\\boldsymbol{H}\\boldsymbol{x}-\\boldsymbol{y}||_2^2$.  \n",
    "This is a minimization problem.\n",
    "\n",
    "The first approach is a line search with **gradient descent** direction and fixed step length."
   ]
  },
  {
   "cell_type": "code",
   "execution_count": 47,
   "metadata": {
    "pycharm": {
     "is_executing": false,
     "metadata": false,
     "name": "#%%\n"
    }
   },
   "outputs": [
    {
     "name": "stdout",
     "output_type": "stream",
     "text": [
      "xg = [0.95745399 0.1421083 ]\n"
     ]
    }
   ],
   "source": [
    "delta = 1e-9 # Threshold for stopping criterion.\n",
    "epsilon = 1e-4 # Step length.\n",
    "max_iter = 100000\n",
    "\n",
    "# Initial guess.\n",
    "init_xg = np.random.rand(*x.shape)*1.4\n",
    "xg = init_xg\n",
    "\n",
    "# Gradient descent line search.\n",
    "points = []\n",
    "while len(points) < max_iter:\n",
    "    points.append(xg)\n",
    "    grad = 2*H.T.dot(H).dot(xg)-2*np.dot(H.T,y) # Calc gradient at current position.\n",
    "    if np.linalg.norm(grad) < delta:\n",
    "        break\n",
    "    xg = xg - 2*epsilon*grad\n",
    "print(\"xg =\",xg)"
   ]
  },
  {
   "cell_type": "markdown",
   "metadata": {
    "pycharm": {
     "metadata": false,
     "name": "#%% md\n"
    }
   },
   "source": [
    "Plots:  \n",
    " * [left subplot]: The function and the trajectory of the line search. \n",
    " The minimum at $x$ is marked with a red cross and \n",
    " the first guess with a green cross.\n",
    " * [right subplot]: The euclidean distance of the trajectory \n",
    " to the minimum at each iteration."
   ]
  },
  {
   "cell_type": "code",
   "execution_count": 48,
   "metadata": {
    "pycharm": {
     "is_executing": false,
     "metadata": false,
     "name": "#%%\n"
    }
   },
   "outputs": [
    {
     "data": {
      "image/png": "[encoded data removed]",
      "text/plain": [
       "<Figure size 1080x432 with 3 Axes>"
      ]
     },
     "metadata": {
      "needs_background": "light"
     },
     "output_type": "display_data"
    }
   ],
   "source": [
    "def obj_func(mesh):\n",
    "    return np.linalg.norm(np.tensordot(H, mesh, axes=1)-y[:, np.newaxis, np.newaxis], axis=0)**2\n",
    "\n",
    "# Least-Square function.doing a matrix multiplication for a mesh\n",
    "x_grid = np.arange(-1.5, 1.5, 0.02)\n",
    "y_grid = np.arange(-1.5, 1.5, 0.02)\n",
    "X, Y = np.meshgrid(x_grid, y_grid)\n",
    "fZ = obj_func([X, Y])\n",
    "\n",
    "# Line search trajectory.\n",
    "trajectory_x = [points[i][0] for i in range(len(points))]\n",
    "trajectory_y = [points[i][1] for i in range(len(points))]\n",
    "\n",
    "\n",
    "font = {'size'   : 20}\n",
    "plt.rc('font', **font)\n",
    "plt.rc('text', usetex=True)\n",
    "params= {'text.latex.preamble' : [r'\\usepackage{amsmath}']}\n",
    "plt.rcParams.update(params)\n",
    "\n",
    "plt.figure(1,figsize=(15,6))\n",
    "plt.rcParams.update({'font.size': 15})\n",
    "plt.subplot(121)\n",
    "plt.contourf(X,Y,fZ,levels=20)\n",
    "plt.colorbar()\n",
    "plt.xlabel(\"$x_1$\")\n",
    "plt.ylabel(\"$x_2$\")\n",
    "plt.plot(trajectory_x, trajectory_y,marker='.',color='w',linewidth=2)\n",
    "plt.plot(x[0], x[1], marker='x',color='r',markersize=12, markeredgewidth=2)\n",
    "plt.plot(init_xg[0],init_xg[1], marker='x',color='g',markersize=12, markeredgewidth=2)\n",
    "plt.subplot(122)\n",
    "plt.plot(range(0,len(points)),[np.linalg.norm(p-x) for p in points])\n",
    "plt.grid(True)\n",
    "plt.xlabel(\"Step $i$\")\n",
    "plt.ylabel(r\"$\\Vert f(\\boldsymbol{x}^{(i)})-\\boldsymbol{x}\\Vert_2$\")\n",
    "plt.show()\n"
   ]
  },
  {
   "cell_type": "markdown",
   "metadata": {
    "pycharm": {
     "is_executing": false,
     "metadata": false,
     "name": "#%% md\n"
    }
   },
   "source": [
    "Now we use **Newton's method**. It reaches the minimum in one step, \n",
    "because the objective function is quadratic (Least-Square)."
   ]
  },
  {
   "cell_type": "code",
   "execution_count": 49,
   "metadata": {
    "pycharm": {
     "is_executing": false,
     "metadata": false,
     "name": "#%%\n"
    }
   },
   "outputs": [
    {
     "name": "stdout",
     "output_type": "stream",
     "text": [
      "xh =  [0.95745399 0.14210829]\n"
     ]
    }
   ],
   "source": [
    "xh = np.linalg.inv(H.T.dot(H)).dot(H.T).dot(y)\n",
    "print('xh = ', xh)\n"
   ]
  },
  {
   "cell_type": "markdown",
   "metadata": {
    "pycharm": {
     "metadata": false,
     "name": "#%% md\n"
    }
   },
   "source": [
    "A limitation of the transmit signal energy is known.  \n",
    "$\\boldsymbol{x}^T\\boldsymbol{x} \\leq 1$.  \n",
    "We add this information as a **constraint** to the problem with the use\n",
    "of a **Lagrange multiplier**. \n",
    "Use gradient descent direction to find the optimal $\\boldsymbol{x}$ of the new constrained\n",
    "problem.\n"
   ]
  },
  {
   "cell_type": "code",
   "execution_count": 50,
   "metadata": {
    "pycharm": {
     "is_executing": false,
     "metadata": false,
     "name": "#%%\n"
    }
   },
   "outputs": [
    {
     "name": "stdout",
     "output_type": "stream",
     "text": [
      "[0.86559145 0.14691094]\n"
     ]
    }
   ],
   "source": [
    "max_iter = 100000\n",
    "lam = 5 # Init value for lambda.\n",
    "init_xg = np.random.rand(*x.shape)*1.4 # Initial guess.\n",
    "xg = init_xg\n",
    "\n",
    "points = []\n",
    "while len(points) < max_iter:\n",
    "    points.append(xg)\n",
    "    xg = np.linalg.inv(H.T.dot(H)+lam*np.identity(n)).dot(H.T).dot(y)\n",
    "    lam = lam - epsilon*(1-xg.T.dot(xg))\n",
    "    if np.abs(1-xg.T.dot(xg)) < delta or lam < delta:\n",
    "        break\n",
    "print(xg)"
   ]
  },
  {
   "cell_type": "markdown",
   "metadata": {
    "pycharm": {
     "metadata": false,
     "name": "#%% md\n"
    }
   },
   "source": [
    "Plots:  \n",
    " * [left subplot]: The function and the trajectory of the line search. \n",
    " The minimum at $x$ is marked with a red cross and \n",
    " the first guess with a green cross. The constraint is displayed with a black line.\n",
    " * [right subplot]: The euclidean distance of the trajectory \n",
    " to the minimum at each iteration."
   ]
  },
  {
   "cell_type": "code",
   "execution_count": 51,
   "metadata": {
    "pycharm": {
     "is_executing": false,
     "metadata": false,
     "name": "#%%\n"
    }
   },
   "outputs": [
    {
     "data": {
      "image/png": "[encoded data removed]",
      "text/plain": [
       "<Figure size 1080x432 with 3 Axes>"
      ]
     },
     "metadata": {
      "needs_background": "light"
     },
     "output_type": "display_data"
    }
   ],
   "source": [
    "trajectory_x = [points[i][0] for i in range(len(points))]\n",
    "trajectory_y = [points[i][1] for i in range(len(points))]\n",
    "\n",
    "x_grid = np.arange(-1.5, 1.5, 0.02)\n",
    "y_grid = np.arange(-1.5, 1.5, 0.02)\n",
    "X, Y = np.meshgrid(x_grid, y_grid)\n",
    "fZ = obj_func([X, Y])\n",
    "\n",
    "plt.figure(1,figsize=(15,6))\n",
    "plt.subplot(121)\n",
    "fig = plt.gcf()\n",
    "ax = fig.gca()\n",
    "plt.rcParams.update({'font.size': 14})\n",
    "plt.contourf(X,Y,fZ,levels=20)\n",
    "plt.colorbar()\n",
    "plt.xlabel(\"$x_1$\")\n",
    "plt.ylabel(\"$x_2$\")\n",
    "circle = plt.Circle((0,0),radius=1, fill=False, color='r')\n",
    "ax.add_artist(circle)\n",
    "plt.plot(trajectory_x, trajectory_y,marker='.',color='w',linewidth=2)\n",
    "plt.plot(x[0],x[1], marker='x',color='r',markersize=12, markeredgewidth=2)\n",
    "plt.plot(init_xg[0],init_xg[1], marker='x',color='g',markersize=12, markeredgewidth=2)\n",
    "plt.subplot(122)\n",
    "plt.plot(range(0,len(points)),[np.linalg.norm(p-x) for p in points])\n",
    "plt.grid(True)\n",
    "plt.xlabel(\"Step $i$\")\n",
    "plt.ylabel(r\"$\\Vert f(\\boldsymbol{x}^{(i)})-\\boldsymbol{x}\\Vert$\")\n",
    "plt.show()\n"
   ]
  }
 ],
 "metadata": {
  "kernelspec": {
   "display_name": "Python 3",
   "language": "python",
   "name": "python3"
  },
  "language_info": {
   "codemirror_mode": {
    "name": "ipython",
    "version": 3
   },
   "file_extension": ".py",
   "mimetype": "text/x-python",
   "name": "python",
   "nbconvert_exporter": "python",
   "pygments_lexer": "ipython3",
   "version": "3.7.6"
  },
  "pycharm": {
   "stem_cell": {
    "cell_type": "raw",
    "metadata": {
     "collapsed": false
    },
    "source": []
   }
  }
 },
 "nbformat": 4,
 "nbformat_minor": 1
}
