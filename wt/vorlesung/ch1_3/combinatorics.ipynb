{
 "cells": [
  {
   "cell_type": "markdown",
   "metadata": {},
   "source": [
    "# Content and Objectives"
   ]
  },
  {
   "cell_type": "markdown",
   "metadata": {},
   "source": [
    "- Confirm theoretical values for variations and combinations \n",
    "- Large number of tuples are sampled and occurrences of according events are being counted"
   ]
  },
  {
   "cell_type": "markdown",
   "metadata": {},
   "source": [
    "# Import"
   ]
  },
  {
   "cell_type": "code",
   "execution_count": 1,
   "metadata": {},
   "outputs": [],
   "source": [
    "# importing\n",
    "import numpy as np\n",
    "from scipy import special\n",
    "\n",
    "import time"
   ]
  },
  {
   "cell_type": "markdown",
   "metadata": {},
   "source": [
    "# Parameters"
   ]
  },
  {
   "cell_type": "code",
   "execution_count": 2,
   "metadata": {},
   "outputs": [],
   "source": [
    "# parameters of the combinatoric model\n",
    "N = 7\n",
    "K = 4\n",
    "\n",
    "# number of trials to be simulated\n",
    "N_trials = int( 1e4 )"
   ]
  },
  {
   "cell_type": "code",
   "execution_count": 3,
   "metadata": {},
   "outputs": [],
   "source": [
    "start = time.time()"
   ]
  },
  {
   "cell_type": "markdown",
   "metadata": {},
   "source": [
    "# Function for Sampling with Parametrization"
   ]
  },
  {
   "cell_type": "code",
   "execution_count": 4,
   "metadata": {},
   "outputs": [],
   "source": [
    "def count_samples( N, K, N_trials, respect_order, return_elements ):\n",
    "    '''\n",
    "    Function generating samples and counting their number \n",
    "    \n",
    "    IN: N = size of set out of which elements are sampled\n",
    "        K = size of sample \n",
    "        N_trials = number of trials for simulation\n",
    "        \n",
    "        respect_order = order of samples mattering (or not), \n",
    "                        resulting in variations or combinations, respectively; \n",
    "                        boolean\n",
    "                        \n",
    "        return_elements =   returning sampled elements to box (or not); \n",
    "                            boolean\n",
    "        \n",
    "    OUT: numbers of different samples\n",
    "    '''\n",
    "    \n",
    "    # check that sample size is feasible\n",
    "    assert return_elements == 1 or K <= N, 'Sample has to be feasible!'\n",
    "    \n",
    "    # empty list for collecting samples\n",
    "    collected = [] \n",
    "    \n",
    "    # loop for realizations\n",
    "    for _n in range( N_trials ):\n",
    "\n",
    "        # sample subset\n",
    "        sample = list( np.random.choice( N, K, replace = return_elements ) )\n",
    "\n",
    "        # sort sample if required\n",
    "        if not respect_order:\n",
    "            sample.sort()\n",
    "        \n",
    "        # add sample to history if not observed yet\n",
    "        if sample in collected:\n",
    "            continue\n",
    "        else:\n",
    "            collected.append( sample )   \n",
    "            \n",
    "    return len( collected )\n",
    "    "
   ]
  },
  {
   "cell_type": "markdown",
   "metadata": {},
   "source": [
    "# Simulations"
   ]
  },
  {
   "cell_type": "code",
   "execution_count": 5,
   "metadata": {},
   "outputs": [
    {
     "name": "stdout",
     "output_type": "stream",
     "text": [
      "\n",
      "Sample with order, returning elements:\n",
      "---------------------------------------------\n",
      "\n",
      "Theoretical value:\t\t\t2401\n",
      "Different tuples in simulation: \t2372\n"
     ]
    }
   ],
   "source": [
    "print('\\nSample with order, returning elements:')\n",
    "print('---------------------------------------------\\n')\n",
    "\n",
    "# get values\n",
    "theo = N**K \n",
    "sim = count_samples( N, K, N_trials, respect_order = 1, return_elements = 1 )\n",
    "\n",
    "print('Theoretical value:\\t\\t\\t{}'.format( theo )  )\n",
    "print('Different tuples in simulation: \\t{}'.format( sim ) )"
   ]
  },
  {
   "cell_type": "code",
   "execution_count": 6,
   "metadata": {},
   "outputs": [
    {
     "name": "stdout",
     "output_type": "stream",
     "text": [
      "\n",
      "Sample with order, not returning elements:\n",
      "---------------------------------------------\n",
      "\n",
      "Theoretical value:\t\t\t840\n",
      "Different tuples in simulation: \t840\n"
     ]
    }
   ],
   "source": [
    "print('\\nSample with order, not returning elements:')\n",
    "print('---------------------------------------------\\n')\n",
    "\n",
    "# get values\n",
    "# NOTE: upper limit not included in arange -> increase by 1\n",
    "theo = np.prod( np.arange( N-K+1, N+1 ) )\n",
    "sim = count_samples( N, K, N_trials, respect_order = 1, return_elements = 0 )\n",
    "\n",
    "print('Theoretical value:\\t\\t\\t{}'.format( theo )  )\n",
    "print('Different tuples in simulation: \\t{}'.format( sim ) )"
   ]
  },
  {
   "cell_type": "code",
   "execution_count": 7,
   "metadata": {},
   "outputs": [
    {
     "name": "stdout",
     "output_type": "stream",
     "text": [
      "\n",
      "Sample without order, not returning elements:\n",
      "---------------------------------------------\n",
      "\n",
      "Theoretical value:\t\t\t35\n",
      "Different tuples in simulation: \t35\n"
     ]
    }
   ],
   "source": [
    "print('\\nSample without order, not returning elements:')\n",
    "print('---------------------------------------------\\n')\n",
    "     \n",
    "# get values\n",
    "theo = special.binom( N, K ).astype( int )\n",
    "sim = count_samples( N, K, N_trials, respect_order = 0, return_elements = 0 )\n",
    "\n",
    "print('Theoretical value:\\t\\t\\t{}'.format( theo )  )\n",
    "print('Different tuples in simulation: \\t{}'.format( sim ) )"
   ]
  },
  {
   "cell_type": "code",
   "execution_count": 8,
   "metadata": {},
   "outputs": [
    {
     "name": "stdout",
     "output_type": "stream",
     "text": [
      "\n",
      "Sample without order, returning elements:\n",
      "---------------------------------------------\n",
      "\n",
      "Theoretical value:\t\t\t210\n",
      "Different tuples in simulation: \t210\n"
     ]
    }
   ],
   "source": [
    "print('\\nSample without order, returning elements:')\n",
    "print('---------------------------------------------\\n')\n",
    "        \n",
    "# get values\n",
    "theo = special.binom( N+K-1, K ).astype( int )\n",
    "sim = count_samples( N, K, N_trials, respect_order = 0, return_elements = 1 )\n",
    "\n",
    "print('Theoretical value:\\t\\t\\t{}'.format( theo )  )\n",
    "print('Different tuples in simulation: \\t{}'.format( sim ) )"
   ]
  },
  {
   "cell_type": "markdown",
   "metadata": {},
   "source": [
    "# Exercise"
   ]
  },
  {
   "cell_type": "markdown",
   "metadata": {},
   "source": [
    "Quiz: Can you reason how to speed-up simulation while maintaining accuracy?"
   ]
  },
  {
   "cell_type": "markdown",
   "metadata": {},
   "source": [
    "# Show Time for Simulation"
   ]
  },
  {
   "cell_type": "code",
   "execution_count": 9,
   "metadata": {},
   "outputs": [
    {
     "name": "stdout",
     "output_type": "stream",
     "text": [
      "Elapsed: 1.9693851470947266\n"
     ]
    }
   ],
   "source": [
    "print('Elapsed: {}'.format( time.time() - start ))"
   ]
  }
 ],
 "metadata": {
  "kernelspec": {
   "display_name": "Python 3",
   "language": "python",
   "name": "python3"
  },
  "language_info": {
   "codemirror_mode": {
    "name": "ipython",
    "version": 3
   },
   "file_extension": ".py",
   "mimetype": "text/x-python",
   "name": "python",
   "nbconvert_exporter": "python",
   "pygments_lexer": "ipython3",
   "version": "3.7.4"
  }
 },
 "nbformat": 4,
 "nbformat_minor": 4
}
