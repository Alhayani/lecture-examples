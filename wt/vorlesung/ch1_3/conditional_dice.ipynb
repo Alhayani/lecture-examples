{
 "cells": [
  {
   "cell_type": "markdown",
   "metadata": {},
   "source": [
    "# Content and Objective"
   ]
  },
  {
   "cell_type": "markdown",
   "metadata": {},
   "source": [
    "- Roll conditional dice with result of first dice determining maximum value of second dice whose samples are finally observed and evaluated"
   ]
  },
  {
   "cell_type": "markdown",
   "metadata": {},
   "source": [
    "# Import"
   ]
  },
  {
   "cell_type": "code",
   "execution_count": 1,
   "metadata": {},
   "outputs": [],
   "source": [
    "# importing\n",
    "import numpy as np\n",
    "\n",
    "import matplotlib.pyplot as plt\n",
    "import matplotlib\n",
    "\n",
    "# showing figures inline\n",
    "%matplotlib inline"
   ]
  },
  {
   "cell_type": "code",
   "execution_count": 2,
   "metadata": {},
   "outputs": [],
   "source": [
    "# plotting options \n",
    "font = {'size'   : 20}\n",
    "plt.rc('font', **font)\n",
    "plt.rc('text', usetex=True)\n",
    "\n",
    "matplotlib.rc('figure', figsize=(18, 6) )"
   ]
  },
  {
   "cell_type": "markdown",
   "metadata": {},
   "source": [
    "# Here we go"
   ]
  },
  {
   "cell_type": "code",
   "execution_count": 3,
   "metadata": {},
   "outputs": [],
   "source": [
    "# max number of first dice for sampling the max. number of the second dice\n",
    "N_max = 10\n",
    "\n",
    "# number of trials\n",
    "N_trials = int( 1e3 )\n",
    "\n",
    "# list for collecting results of second dice\n",
    "results = [ ]\n",
    "\n",
    "# loop for realizations\n",
    "for _n in range( N_trials ):\n",
    "    \n",
    "    # throw N_max-sided dice\n",
    "    Z = np.random.randint( 1, N_max + 1 )\n",
    "    \n",
    "    # sample second (random) dice\n",
    "    X = np.random.randint( 1, Z + 1 )\n",
    "    \n",
    "    # save result of second dice\n",
    "    results.append( X )"
   ]
  },
  {
   "cell_type": "markdown",
   "metadata": {},
   "source": [
    "# Find Theoretical Probabilities and Simulation Results"
   ]
  },
  {
   "cell_type": "code",
   "execution_count": 4,
   "metadata": {},
   "outputs": [],
   "source": [
    "# possible values of second dice \n",
    "values = np.arange( 1, N_max+1 )\n",
    "\n",
    "# get theoretical values by summing up harmonics\n",
    "#\n",
    "#####\n",
    "# EXERCISE: Reason this\n",
    "#####\n",
    "\n",
    "harmonic = 1 / np.arange( 1, N_max+1 )\n",
    "\n",
    "Pr_theo = np.zeros_like( values, dtype=float )\n",
    "\n",
    "for ind_values, val_values in enumerate( values ):\n",
    "    Pr_theo[ ind_values ] = np.sum( harmonic[ ind_values: ] ) / N_max\n",
    "\n",
    "    \n",
    "# simulation results\n",
    "Pr_sim = np.zeros_like( Pr_theo, dtype=float )\n",
    "    \n",
    "# loop for possible sums and get relative frequency\n",
    "for ind_values, val_values in enumerate( values ):\n",
    "    Pr_sim [ ind_values ] = np.sum( [ int( r == val_values ) for r in results ] ) / N_trials"
   ]
  },
  {
   "cell_type": "code",
   "execution_count": 5,
   "metadata": {},
   "outputs": [
    {
     "data": {
      "text/plain": [
       "<matplotlib.legend.Legend at 0x7f85ac154828>"
      ]
     },
     "execution_count": 5,
     "metadata": {},
     "output_type": "execute_result"
    },
    {
     "data": {
      "image/png": "[encoded data removed]",
      "text/plain": [
       "<Figure size 1296x432 with 1 Axes>"
      ]
     },
     "metadata": {},
     "output_type": "display_data"
    }
   ],
   "source": [
    "# plotting\n",
    "plt.figure()    \n",
    "\n",
    "width = 0.2\n",
    "plt.bar( values, Pr_theo, linewidth=2.0, width=width, label='theo.')\n",
    "plt.bar( values+width, Pr_sim, linewidth=2.0, width=width, label='sim.')\n",
    "\n",
    "plt.xlabel('$n$')\n",
    "plt.ylabel('$P(X=n), H_{{{}}}(n)$'.format( int(N_trials) ) )\n",
    "plt.grid( True )\n",
    "plt.legend( loc = 'upper right' )"
   ]
  },
  {
   "cell_type": "code",
   "execution_count": null,
   "metadata": {},
   "outputs": [],
   "source": []
  }
 ],
 "metadata": {
  "kernelspec": {
   "display_name": "Python 3 (Spyder)",
   "language": "python3",
   "name": "python3"
  },
  "language_info": {
   "codemirror_mode": {
    "name": "ipython",
    "version": 3
   },
   "file_extension": ".py",
   "mimetype": "text/x-python",
   "name": "python",
   "nbconvert_exporter": "python",
   "pygments_lexer": "ipython3",
   "version": "3.6.6"
  }
 },
 "nbformat": 4,
 "nbformat_minor": 1
}
