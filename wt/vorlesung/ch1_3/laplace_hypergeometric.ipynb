{
 "cells": [
  {
   "cell_type": "markdown",
   "metadata": {},
   "source": [
    "# Import"
   ]
  },
  {
   "cell_type": "code",
   "execution_count": 1,
   "metadata": {
    "collapsed": true
   },
   "outputs": [],
   "source": [
    "# importing\n",
    "import numpy as np\n",
    "\n",
    "from scipy import special\n",
    "\n",
    "import matplotlib.pyplot as plt\n",
    "import matplotlib\n",
    "\n",
    "# showing figures inline\n",
    "%matplotlib inline\n",
    "\n",
    "# plotting options \n",
    "font = {'size'   : 20}\n",
    "plt.rc('font', **font)\n",
    "plt.rc('text', usetex=True)\n",
    "\n",
    "matplotlib.rc('figure', figsize=(18, 6) )"
   ]
  },
  {
   "cell_type": "markdown",
   "metadata": {},
   "source": [
    "# Parameters and Analytical Solution"
   ]
  },
  {
   "cell_type": "code",
   "execution_count": 2,
   "metadata": {
    "collapsed": true
   },
   "outputs": [],
   "source": [
    "# number of balls    \n",
    "N = 100\n",
    "R = 30\n",
    "n = 10\n",
    "\n",
    "# number of trials\n",
    "N_trials = int( 1e4 )\n",
    "\n",
    "\n",
    "# get analytical solution by passing through r and applying according formula\n",
    "# NOTE: r is a vector, so the definition formula for Pr is being applied pointwise\n",
    "r = np.arange( 0, n + 1 )\n",
    "Pr = special.binom( R, r ) * special.binom( N-R, n - r ) / special.binom( N, n )\n",
    "\n",
    "### if you prefer for-loops...\n",
    "#Pr = np.zeros( n + 1 )\n",
    "#for ind_rho, val_rho in enumerate( r ):\n",
    "#    Pr[ ind_rho ] = special.binom( R, val_rho ) * special.binom( N-R, n - val_rho ) / special.binom( N, n )"
   ]
  },
  {
   "cell_type": "markdown",
   "metadata": {},
   "source": [
    "# Simulation"
   ]
  },
  {
   "cell_type": "code",
   "execution_count": 3,
   "metadata": {
    "scrolled": true
   },
   "outputs": [
    {
     "name": "stdout",
     "output_type": "stream",
     "text": [
      "Theoretical values: [  2.292e-02   1.127e-01   2.372e-01   2.812e-01   2.076e-01   9.964e-02\n",
      "   3.145e-02   6.438e-03   8.166e-04   5.786e-05   1.736e-06]\n",
      "\n",
      "Simulation values: [  2.270e-02   1.122e-01   2.396e-01   2.875e-01   2.072e-01   9.720e-02\n",
      "   2.770e-02   5.500e-03   3.000e-04   1.000e-04   0.000e+00]\n"
     ]
    }
   ],
   "source": [
    "# initialize empty array for sampled number of red balls\n",
    "numb_red = np.empty( N_trials )\n",
    "\n",
    "# do N_trials samples\n",
    "# NOTE: _n is an auxiliary counter; n is the parameter of the distribution\n",
    "for _n in np.arange( N_trials ):\n",
    "\n",
    "    # initialize box\n",
    "    balls = R * ['red'] + (N-R) * ['white']\n",
    "\n",
    "    # sample without replacing\n",
    "    sample = np.random.choice( balls, n, replace=False )\n",
    "    \n",
    "    # count number of red samples\n",
    "    is_red = [ s == 'red' for s in sample ]\n",
    "    numb_red[ _n ] = np.sum( [ int(i) for i in is_red ] )\n",
    "    \n",
    "# get histogram\n",
    "# NOTE: density=True leads to sum equalling 1\n",
    "bins = [ -.5 + k for k in np.arange( n + 2) ] \n",
    "hist = np.histogram( numb_red, bins, density=True )      \n",
    "\n",
    "    \n",
    "# printing probabilities\n",
    "np.set_printoptions(precision=3)\n",
    "print('Theoretical values: {}'.format( Pr )  )\n",
    "print('\\nSimulation values: {}'.format( hist[0] ) )"
   ]
  },
  {
   "cell_type": "markdown",
   "metadata": {},
   "source": [
    "# Plotting"
   ]
  },
  {
   "cell_type": "code",
   "execution_count": 4,
   "metadata": {},
   "outputs": [
    {
     "data": {
      "text/plain": [
       "<matplotlib.legend.Legend at 0x7f262c851e10>"
      ]
     },
     "execution_count": 4,
     "metadata": {},
     "output_type": "execute_result"
    },
    {
     "data": {
      "image/png": "[encoded data removed]",
      "text/plain": [
       "<matplotlib.figure.Figure at 0x7f262c801208>"
      ]
     },
     "metadata": {},
     "output_type": "display_data"
    }
   ],
   "source": [
    "# plotting\n",
    "plt.figure()\n",
    "width = 0.2\n",
    "\n",
    "plt.bar( r, Pr, linewidth=2.0, width=width, label='theo.')\n",
    "plt.bar( r+width, hist[0], linewidth=2.0, width=width, color='g', label='sim.' )\n",
    "\n",
    "plt.xlabel('$r$')\n",
    "plt.ylabel('$P_r$')\n",
    "plt.grid( True )\n",
    "plt.legend( loc = 'upper right' )"
   ]
  },
  {
   "cell_type": "code",
   "execution_count": null,
   "metadata": {
    "collapsed": true
   },
   "outputs": [],
   "source": []
  }
 ],
 "metadata": {
  "kernelspec": {
   "display_name": "Python 3",
   "language": "python",
   "name": "python3"
  },
  "language_info": {
   "codemirror_mode": {
    "name": "ipython",
    "version": 3
   },
   "file_extension": ".py",
   "mimetype": "text/x-python",
   "name": "python",
   "nbconvert_exporter": "python",
   "pygments_lexer": "ipython3",
   "version": "3.6.1"
  }
 },
 "nbformat": 4,
 "nbformat_minor": 1
}
