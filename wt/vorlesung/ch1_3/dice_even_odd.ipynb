{
 "cells": [
  {
   "cell_type": "markdown",
   "metadata": {},
   "source": [
    "# Content and Objective"
   ]
  },
  {
   "cell_type": "markdown",
   "metadata": {},
   "source": [
    "- Confirm results derived in the lecture when analyzing probability of sum of two dice being greater than 9, conditioned on the result of first dice being even and odd\n",
    "- Dice are sampled and occurences of according events are being counted"
   ]
  },
  {
   "cell_type": "markdown",
   "metadata": {},
   "source": [
    "# Import"
   ]
  },
  {
   "cell_type": "code",
   "execution_count": 1,
   "metadata": {},
   "outputs": [],
   "source": [
    "# importing\n",
    "import numpy as np"
   ]
  },
  {
   "cell_type": "markdown",
   "metadata": {},
   "source": [
    "# Simulation"
   ]
  },
  {
   "cell_type": "code",
   "execution_count": 2,
   "metadata": {},
   "outputs": [
    {
     "name": "stdout",
     "output_type": "stream",
     "text": [
      "Estimation of P(A):\t\t0.5055\n",
      "Estimation of P(B):\t\t0.4945\n",
      "\n",
      "Estimation of P(C|A):\t\t0.333135509396637\n",
      "Estimation of P(C|B):\t\t0.21435793731041455\n"
     ]
    }
   ],
   "source": [
    "# number of trials\n",
    "N_trials = int( 1e4 )\n",
    "\n",
    "# counter of events \"first dice even, first dice odd, sum of dice >= 9\"\n",
    "# counter of conditional events\n",
    "\n",
    "# NOTE: Naming of events as on lecture slides\n",
    "\n",
    "N_A = 0 \n",
    "N_B = 0\n",
    "N_C = 0\n",
    "\n",
    "N_CA = 0\n",
    "N_CB = 0\n",
    "\n",
    "\n",
    "# loop for realizations\n",
    "for _n in range( N_trials ):\n",
    "    \n",
    "    # sample 2 dice\n",
    "    # NOTE: Upper limit is not included randint\n",
    "    sample = np.random.randint( 1, 7, size=2 )\n",
    "    \n",
    "    # check for events; result: boolean\n",
    "    first_even = ( sample[0] % 2 == 0 )\n",
    "    sum_greater_9 = ( sum( sample ) >= 9 )\n",
    "    \n",
    "    # increase according counters\n",
    "    \n",
    "    ###\n",
    "    # two methods for counting\n",
    "    ###    \n",
    "\n",
    "    # if you like \"ifs\" activate this one\n",
    "    if 0:\n",
    "\n",
    "        if first_even:\n",
    "            N_A += 1\n",
    "        else:\n",
    "            N_B += 1\n",
    "\n",
    "        if sum_greater_9:\n",
    "            N_C += 1\n",
    "\n",
    "            if first_even:\n",
    "                N_CA += 1\n",
    "            else:\n",
    "                N_CB += 1\n",
    "                \n",
    "    # alternative solution    \n",
    "    # as you can see N_CA, N_CB realize an \"and\" of events, so division by P(condition) has to be applied later on\n",
    "    else:\n",
    "        N_A += int( first_even )\n",
    "        N_B += 1 - int( first_even )\n",
    "\n",
    "        N_C += int( sum_greater_9 )\n",
    "\n",
    "        N_CA += int( first_even ) * int( sum_greater_9 )\n",
    "        N_CB += ( 1 - int( first_even ) ) * int( sum_greater_9 )\n",
    "        \n",
    "\n",
    "           \n",
    "            \n",
    "# print results         \n",
    "print('Estimation of P(A):\\t\\t{}'.format( N_A / N_trials ))\n",
    "print('Estimation of P(B):\\t\\t{}\\n'.format( N_B / N_trials ))\n",
    "\n",
    "print('Estimation of P(C|A):\\t\\t{}'.format( N_CA / N_A ))\n",
    "print('Estimation of P(C|B):\\t\\t{}'.format( N_CB / N_B ))\n",
    "\n"
   ]
  },
  {
   "cell_type": "code",
   "execution_count": 3,
   "metadata": {},
   "outputs": [
    {
     "name": "stdout",
     "output_type": "stream",
     "text": [
      "Estimation of P(C):\t\t0.2744\n",
      "P(C) by total probability:\t0.2744\n"
     ]
    }
   ],
   "source": [
    "print('Estimation of P(C):\\t\\t{}'.format( N_C / N_trials ) )\n",
    "print('P(C) by total probability:\\t{}'.format( N_A / N_trials * N_CA / N_A + N_B / N_trials * N_CB / N_B ) )"
   ]
  },
  {
   "cell_type": "markdown",
   "metadata": {},
   "source": [
    "### Note: \n",
    "\n",
    "Since we are dealing with Laplace experiments, we have $P(A)=|A|/|\\Omega|$. So, conditional probabilities become $P(C|A)=\\frac{\\frac{|CA|}{|\\Omega|}}{\\frac{|A|}{|\\Omega|}}=\\frac{|CA|}{|A|}$."
   ]
  },
  {
   "cell_type": "code",
   "execution_count": null,
   "metadata": {},
   "outputs": [],
   "source": []
  }
 ],
 "metadata": {
  "kernelspec": {
   "display_name": "Python 3",
   "language": "python",
   "name": "python3"
  },
  "language_info": {
   "codemirror_mode": {
    "name": "ipython",
    "version": 3
   },
   "file_extension": ".py",
   "mimetype": "text/x-python",
   "name": "python",
   "nbconvert_exporter": "python",
   "pygments_lexer": "ipython3",
   "version": "3.7.3"
  }
 },
 "nbformat": 4,
 "nbformat_minor": 4
}
