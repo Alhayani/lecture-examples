{
 "cells": [
  {
   "cell_type": "markdown",
   "metadata": {},
   "source": [
    "# Content and Objective\n",
    "+ Show probability when sampling random bits"
   ]
  },
  {
   "cell_type": "markdown",
   "metadata": {},
   "source": [
    "# Import"
   ]
  },
  {
   "cell_type": "code",
   "execution_count": 1,
   "metadata": {},
   "outputs": [],
   "source": [
    "# importing\n",
    "import numpy as np\n",
    "\n",
    "import matplotlib.pyplot as plt\n",
    "import matplotlib\n",
    "\n",
    "# showing figures inline\n",
    "%matplotlib inline"
   ]
  },
  {
   "cell_type": "code",
   "execution_count": 2,
   "metadata": {},
   "outputs": [],
   "source": [
    "# plotting options \n",
    "font = {'size'   : 20}\n",
    "plt.rc('font', **font)\n",
    "plt.rc('text', usetex=True)\n",
    "\n",
    "matplotlib.rc('figure', figsize=(18, 6) )"
   ]
  },
  {
   "cell_type": "markdown",
   "metadata": {},
   "source": [
    "# Simulation"
   ]
  },
  {
   "cell_type": "code",
   "execution_count": 3,
   "metadata": {},
   "outputs": [],
   "source": [
    "# define probability of binary 1\n",
    "p = 0.5\n",
    "\n",
    "# lengths of sequences\n",
    "N_seq_1 = 50\n",
    "N_seq_2 = 10000\n",
    "\n",
    "\n",
    "# sample uniformly in [0,1]\n",
    "S_1 = np.random.rand( N_seq_1 )\n",
    "S_2 = np.random.rand( N_seq_2 )\n",
    "\n",
    "# map to bits with prob. as defined \n",
    "X_1 = [ int( s > 1-p ) for s in S_1 ]\n",
    "X_2 = [ int( s > 1-p ) for s in S_2 ]\n",
    "\n",
    "# NOTE:\n",
    "# Simulation could also be done by \n",
    "#X_1 = np.random.choice( [0, 1], size=N_seq_1, replace=True, p=[1-p,p] )\n",
    "#X_2 = np.random.choice( [0, 1], size=N_seq_2, replace=True, p=[1-p,p] )\n",
    "\n",
    "\n",
    "# determine histogram manually\n",
    "bins = np.array( [0, 1] )\n",
    "\n",
    "hist_1 = [ ( N_seq_1 - np.sum( X_1 ) ) / N_seq_1,  np.sum( X_1 ) / N_seq_1]\n",
    "hist_2 = [ ( N_seq_2 - np.sum( X_2 ) ) / N_seq_2,  np.sum( X_2 ) / N_seq_2]\n",
    "\n",
    "# get expectation and standard deviation\n",
    "E_1 = np.average( X_1 )\n",
    "V_1 = np.sqrt( np.var( X_1 ) )\n",
    "\n",
    "E_2 = np.average( X_2 )\n",
    "V_2 = np.sqrt( np.var( X_2 ) )    \n",
    "\n",
    "\n",
    "# theoretical values\n",
    "f_theo_x = [ 1-p, p ]     "
   ]
  },
  {
   "cell_type": "markdown",
   "metadata": {},
   "source": [
    "# Plotting"
   ]
  },
  {
   "cell_type": "code",
   "execution_count": 4,
   "metadata": {},
   "outputs": [
    {
     "data": {
      "text/plain": [
       "<matplotlib.legend.Legend at 0x7f9e94e8e7b8>"
      ]
     },
     "execution_count": 4,
     "metadata": {},
     "output_type": "execute_result"
    },
    {
     "data": {
      "image/png": "[encoded data removed]",
      "text/plain": [
       "<Figure size 1296x432 with 2 Axes>"
      ]
     },
     "metadata": {
      "needs_background": "light"
     },
     "output_type": "display_data"
    }
   ],
   "source": [
    "# plotting\n",
    "plt.figure()\n",
    "\n",
    "width = 0.2\n",
    "\n",
    "plt.subplot(121)\n",
    "plt.bar( bins, f_theo_x, linewidth=2.0, width=width, label='theo.')\n",
    "plt.bar( bins + width, hist_1, linewidth=2.0, width=width, label='sim.' )\n",
    "\n",
    "plt.plot( [ E_1, E_1 ],  [0, np.max(X_1)] , '-o', color='orange', ms = 16, linewidth=2.0, label='$E(X)$' )\n",
    "plt.fill_between( [ E_1 - np.sqrt(V_1), E_1 + np.sqrt(V_1)], np.average(X_1) * .39, np.average(X_1)*0.41, color='r', label='$E(X)\\pm D(X)$')        \n",
    "\n",
    "plt.xlabel('$n$')\n",
    "plt.ylabel('$P(X=x_n), H_{{{}}}(n)$'.format( N_seq_1 ) )\n",
    "                    \n",
    "plt.grid( True )\n",
    "plt.legend( loc = 'upper right' )\n",
    " \n",
    "\n",
    "\n",
    "plt.subplot(122)\n",
    "plt.bar( bins, f_theo_x, linewidth=2.0, width=width, label='theo.')\n",
    "plt.bar( bins + width, hist_2, linewidth=2.0, width=width, label='sim.' )\n",
    "\n",
    "plt.plot( [ E_2, E_2 ],  [0, np.max(X_2)] , '-o', color='orange', ms = 16, linewidth=2.0, label='$E(X)$' )\n",
    "plt.fill_between( [ E_2 - np.sqrt(V_2), E_1 + np.sqrt(V_2)], np.average(X_2) * .39, np.average(X_2)*0.41, color='r', label='$E(X)\\pm D(X)$')        \n",
    "\n",
    "plt.xticks( [0,1])\n",
    "plt.xlabel('$n$')\n",
    "plt.ylabel('$P(X=x_n), H_{{{}}}(n)$'.format( N_seq_2 ) )\n",
    "plt.grid( True )\n",
    "plt.legend( loc = 'upper right' )   "
   ]
  },
  {
   "cell_type": "code",
   "execution_count": null,
   "metadata": {},
   "outputs": [],
   "source": []
  }
 ],
 "metadata": {
  "kernelspec": {
   "display_name": "Python 3",
   "language": "python",
   "name": "python3"
  },
  "language_info": {
   "codemirror_mode": {
    "name": "ipython",
    "version": 3
   },
   "file_extension": ".py",
   "mimetype": "text/x-python",
   "name": "python",
   "nbconvert_exporter": "python",
   "pygments_lexer": "ipython3",
   "version": "3.7.3"
  }
 },
 "nbformat": 4,
 "nbformat_minor": 4
}
