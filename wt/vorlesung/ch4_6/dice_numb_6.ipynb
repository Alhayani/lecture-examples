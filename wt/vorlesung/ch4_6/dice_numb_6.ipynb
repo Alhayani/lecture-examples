{
 "cells": [
  {
   "cell_type": "markdown",
   "metadata": {},
   "source": [
    "# Import"
   ]
  },
  {
   "cell_type": "code",
   "execution_count": 1,
   "metadata": {
    "collapsed": true
   },
   "outputs": [],
   "source": [
    "# importing\n",
    "import numpy as np\n",
    "from scipy import special\n",
    "\n",
    "import matplotlib.pyplot as plt\n",
    "import matplotlib\n",
    "\n",
    "# showing figures inline\n",
    "%matplotlib inline\n",
    "\n",
    "# plotting options \n",
    "font = {'size'   : 20}\n",
    "plt.rc('font', **font)\n",
    "plt.rc('text', usetex=True)\n",
    "\n",
    "matplotlib.rc('figure', figsize=(18, 6) )"
   ]
  },
  {
   "cell_type": "markdown",
   "metadata": {},
   "source": [
    "# Simulation"
   ]
  },
  {
   "cell_type": "code",
   "execution_count": 2,
   "metadata": {},
   "outputs": [],
   "source": [
    "# number of trials \n",
    "N_trials = int( 1e3 )\n",
    "\n",
    "# parameters\n",
    "N = 10\n",
    "p = 1/6\n",
    "\n",
    "# vector of possible number of 6\n",
    "# NOTE: upper limit not included -> N+1\n",
    "K = np.arange( 0, N + 1 )\n",
    "\n",
    "\n",
    "# collecting simulated amount of 6\n",
    "numb_6 = []\n",
    "\n",
    "# loop for realizations\n",
    "for _n in np.arange( N_trials ):\n",
    "\n",
    "    # throw dice\n",
    "    sample = np.random.randint( 1, 7, size = N )\n",
    "\n",
    "    # count amount of \"6\"\n",
    "    is_6 = [ int( s == 6 ) for s in sample ]\n",
    "    count_6 = np.sum ( is_6 )                \n",
    "\n",
    "    numb_6.append( count_6 )\n",
    "\n",
    "\n",
    "# generate histogram\n",
    "bins = np.array( [ -.5 + k for k in range( N + 2) ] )\n",
    "hist = np.histogram( numb_6, bins, density=True )                              \n",
    "\n",
    "# theoretical distribution as binomial\n",
    "P_theo = special.binom( N, K ) * p**K * (1-p)**( N - K )"
   ]
  },
  {
   "cell_type": "markdown",
   "metadata": {},
   "source": [
    "# Plotting"
   ]
  },
  {
   "cell_type": "code",
   "execution_count": 3,
   "metadata": {},
   "outputs": [
    {
     "data": {
      "text/plain": [
       "(0, 11)"
      ]
     },
     "execution_count": 3,
     "metadata": {},
     "output_type": "execute_result"
    },
    {
     "data": {
      "image/png": "[encoded data removed]",
      "text/plain": [
       "<matplotlib.figure.Figure at 0x7f64bc985550>"
      ]
     },
     "metadata": {},
     "output_type": "display_data"
    }
   ],
   "source": [
    "# plotting\n",
    "plt.figure()\n",
    "\n",
    "\n",
    "width = 0.2\n",
    "\n",
    "plt.bar( K, P_theo, linewidth=2.0, width=width, label='theo.')\n",
    "plt.bar( K + width, hist[0], linewidth=2.0, width=width, color='g', label='sim.' )\n",
    "\n",
    "plt.xlabel('$k$')\n",
    "plt.ylabel('$P(X_N=k), H(n)$' )\n",
    "plt.grid( True )\n",
    "plt.legend( loc = 'upper right' )\n",
    "plt.xlim( (0, N +1)) "
   ]
  },
  {
   "cell_type": "code",
   "execution_count": null,
   "metadata": {
    "collapsed": true
   },
   "outputs": [],
   "source": []
  }
 ],
 "metadata": {
  "kernelspec": {
   "display_name": "Python 3",
   "language": "python",
   "name": "python3"
  },
  "language_info": {
   "codemirror_mode": {
    "name": "ipython",
    "version": 3
   },
   "file_extension": ".py",
   "mimetype": "text/x-python",
   "name": "python",
   "nbconvert_exporter": "python",
   "pygments_lexer": "ipython3",
   "version": "3.6.1"
  }
 },
 "nbformat": 4,
 "nbformat_minor": 1
}
