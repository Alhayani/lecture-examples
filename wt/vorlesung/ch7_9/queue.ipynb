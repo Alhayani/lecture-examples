{
 "cells": [
  {
   "cell_type": "markdown",
   "metadata": {},
   "source": [
    "# Import"
   ]
  },
  {
   "cell_type": "code",
   "execution_count": 1,
   "metadata": {},
   "outputs": [],
   "source": [
    "# importing\n",
    "import numpy as np\n",
    "\n",
    "import matplotlib.pyplot as plt\n",
    "import matplotlib\n",
    "\n",
    "# showing figures inline\n",
    "%matplotlib inline\n",
    "\n",
    "# plotting options \n",
    "font = {'size'   : 20}\n",
    "plt.rc('font', **font)\n",
    "plt.rc('text', usetex=True)\n",
    "\n",
    "matplotlib.rc('figure', figsize=(18, 6) )"
   ]
  },
  {
   "cell_type": "markdown",
   "metadata": {},
   "source": [
    "# Function for Generating Poisson Processes"
   ]
  },
  {
   "cell_type": "code",
   "execution_count": 2,
   "metadata": {},
   "outputs": [],
   "source": [
    "# Function for Generating Poisson Processes\n",
    "def get_Poisson_Process( lamb, t ):\n",
    "    \"\"\"\n",
    "    Function generating a Poisson process by adding-up exponential inter-arrival times\n",
    "    \n",
    "    IN:     lamb, parameter of Poission\n",
    "            t, vector of time samples in time regime\n",
    "              \n",
    "    OUT:    X, Poisson process\n",
    "    \"\"\"\n",
    "    \n",
    "    # initialize max time and event times\n",
    "    t_max = np.max( t )\n",
    "    events = [ 0 ]\n",
    "    \n",
    "    # loop for generating events in such a way that t_max is being passed\n",
    "    while events[ -1 ] < t_max:\n",
    "    \n",
    "        # now generate random events with exponentially distributed inter-event-times\n",
    "        # NOTE: We will understand this choice later in this sheet/lecture \n",
    "        inter_event = np.random.exponential( 1 / lamb )\n",
    "\n",
    "        # events by adding the inter-event times, thus generating increasing sequence of \"hop times\"\n",
    "        events.append( events[ -1 ] + inter_event )\n",
    "\n",
    "    # initialize process\n",
    "    X = np.zeros_like( t )\n",
    "    \n",
    "    # generating step function of out event times\n",
    "    for val_event in events:\n",
    "\n",
    "        # positive step whenever time is larger than event time\n",
    "        ind = [ int( val_t > val_event ) for val_t in t ]\n",
    "        \n",
    "        # adding up all steps\n",
    "        X += ind \n",
    "        \n",
    "    return X"
   ]
  },
  {
   "cell_type": "markdown",
   "metadata": {
    "collapsed": true
   },
   "source": [
    "# Describing a Queue by Poisson IN/OUT"
   ]
  },
  {
   "cell_type": "code",
   "execution_count": 3,
   "metadata": {},
   "outputs": [],
   "source": [
    "# NOTE: Parameters lamb may be played with to get an insight on several different scenarios\n",
    "\n",
    "# Poisson parameter\n",
    "lamb_A = 1.1\n",
    "lamb_D = 1\n",
    "\n",
    "# Decrease length for queueing\n",
    "t_max = 20\n",
    "\n",
    "# sample time and time vector\n",
    "t_sample = .01\n",
    "t = np.arange( 0, t_max, t_sample )\n",
    "\n",
    "\n",
    "# \"Arrival\" process out of former simulation\n",
    "A = get_Poisson_Process( lamb_A, t )\n",
    "\n",
    "# \"Departure\" process out of former simulation\n",
    "D = get_Poisson_Process( lamb_D, t)\n",
    "\n",
    "# Initialize queue\n",
    "Q = np.zeros_like( A )\n",
    "\n",
    "# get state (queueing length) for all t\n",
    "for ind in range( 1, len( A ) ):\n",
    "\n",
    "    # boolean for arrivals and departures\n",
    "    arrival = ( A[ ind ] != A[ ind - 1] )\n",
    "    departure = ( D[ ind ] != D[ ind - 1 ] )\n",
    "    \n",
    "    # increase length if arrival occurs\n",
    "    if arrival and not departure:\n",
    "        Q[ ind ] = Q[ ind - 1 ] + 1\n",
    "        \n",
    "    # decrease if departure AND queue is not empty\n",
    "    elif not arrival and departure and Q[ ind - 1 ] != 0:\n",
    "        Q[ ind ] = Q[ ind - 1 ] - 1\n",
    "        \n",
    "    # no changes otherwise\n",
    "    else:\n",
    "        Q[ ind ] = Q[ ind - 1 ]\n"
   ]
  },
  {
   "cell_type": "code",
   "execution_count": 4,
   "metadata": {},
   "outputs": [
    {
     "name": "stdout",
     "output_type": "stream",
     "text": [
      "Processes:\n",
      "----------\n",
      "A(t): Arrivals up to time $t$\n",
      "D(t): Departures up to time $t$\n",
      "Q(t): Length of queue at time $t$\n"
     ]
    },
    {
     "data": {
      "image/png": "[encoded data removed]",
      "text/plain": [
       "<matplotlib.figure.Figure at 0x7f8c87435470>"
      ]
     },
     "metadata": {},
     "output_type": "display_data"
    }
   ],
   "source": [
    "# plotting\n",
    "plt.step( t, Q, linewidth=2.0, label='$Q(t)$', where='post')    \n",
    "plt.step( t, A, linewidth=2.0, label='$A(t)$', where='post')    \n",
    "plt.step( t, D, linewidth=2.0, label='$D(t)$', where='post')    \n",
    "\n",
    "plt.xlabel('$t/\\\\mathrm{s}$')\n",
    "plt.ylabel('$X(t)$') \n",
    "plt.grid( True )\n",
    "plt.legend( loc = 'upper right' )\n",
    "\n",
    "print('Processes:')\n",
    "print('----------')\n",
    "print('A(t): Arrivals up to time $t$')\n",
    "print('D(t): Departures up to time $t$')\n",
    "print('Q(t): Length of queue at time $t$')"
   ]
  },
  {
   "cell_type": "code",
   "execution_count": null,
   "metadata": {},
   "outputs": [],
   "source": []
  }
 ],
 "metadata": {
  "kernelspec": {
   "display_name": "Python 3",
   "language": "python",
   "name": "python3"
  },
  "language_info": {
   "codemirror_mode": {
    "name": "ipython",
    "version": 3
   },
   "file_extension": ".py",
   "mimetype": "text/x-python",
   "name": "python",
   "nbconvert_exporter": "python",
   "pygments_lexer": "ipython3",
   "version": "3.6.3"
  }
 },
 "nbformat": 4,
 "nbformat_minor": 1
}
