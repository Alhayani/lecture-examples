{
 "cells": [
  {
   "cell_type": "code",
   "execution_count": 1,
   "metadata": {},
   "outputs": [],
   "source": [
    "import cvxpy as cp\n",
    "import numpy as np"
   ]
  },
  {
   "cell_type": "code",
   "execution_count": 2,
   "metadata": {},
   "outputs": [
    {
     "data": {
      "text/plain": [
       "array([[0.3, 0.2, 0.5],\n",
       "       [0.5, 0.3, 0.2],\n",
       "       [0.2, 0.5, 0.3]])"
      ]
     },
     "execution_count": 2,
     "metadata": {},
     "output_type": "execute_result"
    }
   ],
   "source": [
    "P = np.array([[0.3, 0.2, 0.5], [0.5, 0.3, 0.2], [0.2, 0.5, 0.3]])\n",
    "P"
   ]
  },
  {
   "cell_type": "code",
   "execution_count": 3,
   "metadata": {},
   "outputs": [],
   "source": [
    "# input and output dimensions\n",
    "V = P.shape[1]\n",
    "W = P.shape[0]\n",
    "\n",
    "Ptilde = P * np.log2(P)\n"
   ]
  },
  {
   "cell_type": "code",
   "execution_count": 5,
   "metadata": {},
   "outputs": [
    {
     "name": "stdout",
     "output_type": "stream",
     "text": [
      "optimal\n",
      "-0.3868630073638846\n",
      "[0.33333333 0.33333333 0.33333333]\n"
     ]
    }
   ],
   "source": [
    "px = cp.Variable(shape=V)\n",
    "\n",
    "\n",
    "objective = cp.Maximize(np.sum(Ptilde, axis=0)*px + cp.sum(cp.entr(P*px)))\n",
    "constraints = [cp.sum(px) == 1.0, px >= 0]\n",
    "\n",
    "problem = cp.Problem(objective, constraints)\n",
    "problem.solve()\n",
    "\n",
    "print(problem.status)\n",
    "print(problem.value)\n",
    "print(px.value)"
   ]
  },
  {
   "cell_type": "code",
   "execution_count": 5,
   "metadata": {},
   "outputs": [
    {
     "name": "stdout",
     "output_type": "stream",
     "text": [
      "-0.3868630073638846\n",
      "[0.33333333 0.33333333 0.33333333]\n"
     ]
    }
   ],
   "source": [
    "# x is probability distribution of the input signal X(t)\n",
    "x = cp.Variable(shape=V)\n",
    "\n",
    "# y is the probability distribution of the output signal Y(t)\n",
    "# P is the channel transition matrix\n",
    "\n",
    "# I is the mutual information between x and y\n",
    "c = np.sum(Ptilde,axis=0)\n",
    "\n",
    "\n",
    "# Channel capacity maximised by maximising the mutual information\n",
    "objective = cp.Maximize(c*x + cp.sum(cp.entr(P*x)))\n",
    "constraints = [cp.sum(x) == 1,x >= 0]\n",
    "\n",
    "# Form and solve problem\n",
    "prob = cp.Problem(objective,constraints)\n",
    "prob.solve()\n",
    "print(prob.value)\n",
    "print(x.value)\n"
   ]
  },
  {
   "cell_type": "code",
   "execution_count": null,
   "metadata": {},
   "outputs": [],
   "source": []
  }
 ],
 "metadata": {
  "kernelspec": {
   "display_name": "Python 3",
   "language": "python",
   "name": "python3"
  },
  "language_info": {
   "codemirror_mode": {
    "name": "ipython",
    "version": 3
   },
   "file_extension": ".py",
   "mimetype": "text/x-python",
   "name": "python",
   "nbconvert_exporter": "python",
   "pygments_lexer": "ipython3",
   "version": "3.6.9"
  }
 },
 "nbformat": 4,
 "nbformat_minor": 2
}
