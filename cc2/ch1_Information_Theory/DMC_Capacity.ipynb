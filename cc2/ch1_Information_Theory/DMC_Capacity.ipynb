{
 "cells": [
  {
   "cell_type": "markdown",
   "metadata": {},
   "source": [
    "# Capacity of a Discrete Memoryless Channel (DMC)\n",
    "\n",
    "This code is provided as supplementary material of the lecture Channel Coding 2 - Advanced Methods.\n",
    "\n",
    "This code illustrates\n",
    "* Calculating the channel capacity using convex optimizatino\n",
    "* Calculating the capacity of weakly convex channels "
   ]
  },
  {
   "cell_type": "code",
   "execution_count": 1,
   "metadata": {},
   "outputs": [],
   "source": [
    "import cvxpy as cp\n",
    "import numpy as np\n",
    "import matplotlib.pyplot as plt"
   ]
  },
  {
   "cell_type": "markdown",
   "metadata": {},
   "source": [
    "Helper function to check if a channel is weakly symmetric and hence also symmetric)"
   ]
  },
  {
   "cell_type": "code",
   "execution_count": 2,
   "metadata": {},
   "outputs": [],
   "source": [
    "# check if channel is weakly symmetric\n",
    "def is_weakly_symmetric(P):\n",
    "    V = P.shape[1]\n",
    "    W = P.shape[0]\n",
    "\n",
    "    # check if matrix P is weakly symmetric\n",
    "    col1 = np.sort(P[:,0])\n",
    "    permutation_test = [np.array_equal(np.sort(P[:,k]), col1) for k in range(1,V)]\n",
    "\n",
    "    retval = all(permutation_test)\n",
    "    \n",
    "    if retval == True:\n",
    "        row_sums = np.sum(P,axis=1)\n",
    "        if not all(row_sums == row_sums[0]):\n",
    "            retval = False;\n",
    "    \n",
    "    return retval"
   ]
  },
  {
   "cell_type": "markdown",
   "metadata": {},
   "source": [
    "Compute the capacity of the channel. If the channel is weakly symmetric, use the direct equation\n",
    "\\begin{equation*}\n",
    "C = \\log_2(W) + \\sum_{i=1}^W P_{i,1}\\log_2P_{i,1} \n",
    "\\end{equation*}\n",
    "The capacity achieving input distribution is obtained as $\\boldsymbol{p}_x = \\begin{pmatrix} \\frac{1}{W} & \\cdots & \\frac{1}{W}\\end{pmatrix}$.\n",
    "\n",
    "\n",
    "If the channel is not weakly symmetric, use numerical optimization (here convex optimization, as we know that the mutual information is concave in the channel input distribution) to find the capacity and the capacity-achieving input distribution by solving the convex program\n",
    "\\begin{align*}\n",
    "\\text{maximize}\\ \\  & \\boldsymbol{1}_{1\\times W}\\cdot(\\tilde{\\boldsymbol{P}}\\boldsymbol{p}_x) +\\frac{1}{\\ln(2)}\\boldsymbol{1}_{1\\times W}\\cdot f_{\\textrm{entr.}}(\\boldsymbol{P}\\boldsymbol{p}_x)\\\\\n",
    "\\text{subject to}\\ &\\sum_ip_{x,i} = 1\\  \\text{and}\\  p_{x,i} \\geq 0\n",
    "\\end{align*}"
   ]
  },
  {
   "cell_type": "code",
   "execution_count": 3,
   "metadata": {},
   "outputs": [],
   "source": [
    "def channel_capacity(P):\n",
    "    # input and output dimensions\n",
    "    V = P.shape[1]\n",
    "    W = P.shape[0]\n",
    "\n",
    "    if is_weakly_symmetric(P):\n",
    "        col = P[:,0]\n",
    "        C = np.log2(W) + np.sum(col * np.log2(col))\n",
    "        px = np.ones(V)/V\n",
    "        \n",
    "        return C,px\n",
    "    else:\n",
    "        # compute Ptilde, multiplication is element-wise here (not matrix multiplication!)\n",
    "        Ptilde = np.zeros_like(P)\n",
    "                \n",
    "        Ptilde[P > 0] = P[P > 0] * np.log2(P[P > 0])\n",
    "        Ptilde[np.isnan(Ptilde)] = 0   # case 0*log2(0) = 0 (and not inf/nan)\n",
    "                \n",
    "        # optimize Px\n",
    "        px = cp.Variable(shape=V)\n",
    "    \n",
    "        objective = cp.Maximize(np.sum(Ptilde,axis=0)*px + cp.sum(cp.entr(P*px))/np.log(2.0))\n",
    "        constraints = [cp.sum(px) == 1.0, px >= 0]\n",
    "        \n",
    "        problem = cp.Problem(objective, constraints)\n",
    "        problem.solve()\n",
    "        \n",
    "        return problem.value, px.value        \n"
   ]
  },
  {
   "cell_type": "markdown",
   "metadata": {},
   "source": [
    "Compute the capacity for the weakly symmetric channel used in the lecture"
   ]
  },
  {
   "cell_type": "code",
   "execution_count": 4,
   "metadata": {},
   "outputs": [
    {
     "name": "stdout",
     "output_type": "stream",
     "text": [
      "(0.1258145836939113, array([0.5, 0.5]))\n"
     ]
    }
   ],
   "source": [
    "# channel transition matrix of a symmetric channel\n",
    "P = np.array([[1/3, 1/3], [1/2, 1/6], [1/6, 1/2]])\n",
    "print(channel_capacity(P))"
   ]
  },
  {
   "cell_type": "markdown",
   "metadata": {},
   "source": [
    "Compute the capacity for a non-symmetric channel. Observe that the input distribution is not uniform"
   ]
  },
  {
   "cell_type": "code",
   "execution_count": 5,
   "metadata": {},
   "outputs": [
    {
     "name": "stdout",
     "output_type": "stream",
     "text": [
      "(0.12592465865859673, array([0.46963701, 0.53036299]))\n"
     ]
    }
   ],
   "source": [
    "# channel transition matrix of an arbitrary channel\n",
    "P = np.array([[1/2, 1/8], [1/3, 5/8], [1/6, 1/4]])\n",
    "print(channel_capacity(P))"
   ]
  },
  {
   "cell_type": "markdown",
   "metadata": {},
   "source": [
    "Compute the capacity for a Z-channel with error probability $q=0.1$"
   ]
  },
  {
   "cell_type": "code",
   "execution_count": 6,
   "metadata": {},
   "outputs": [
    {
     "name": "stdout",
     "output_type": "stream",
     "text": [
      "(0.7628482625281875, array([0.54370184, 0.45629816]))\n"
     ]
    }
   ],
   "source": [
    "# Z-channel\n",
    "q = 0.1\n",
    "P = np.array([[1, q], [0, 1-q]])\n",
    "print(channel_capacity(P))"
   ]
  },
  {
   "cell_type": "markdown",
   "metadata": {},
   "source": [
    "Compute capacitiies of the Z-channel with a varying range of input parameters"
   ]
  },
  {
   "cell_type": "code",
   "execution_count": 26,
   "metadata": {},
   "outputs": [],
   "source": [
    "qs = np.linspace(0.00001,0.99999,100)\n",
    "Cs = np.zeros_like(qs)\n",
    "pxs = np.empty((0,2))\n",
    "for k in range(len(qs)):\n",
    "    P = np.array([[1, qs[k]], [0, 1-qs[k]]])\n",
    "    C,px = channel_capacity(P)\n",
    "    Cs[k] = C\n",
    "    pxs = np.vstack((pxs,px))"
   ]
  },
  {
   "cell_type": "code",
   "execution_count": 49,
   "metadata": {},
   "outputs": [
    {
     "data": {
      "text/plain": [
       "Text(0, 0.5, 'C (bit/channel use)')"
      ]
     },
     "execution_count": 49,
     "metadata": {},
     "output_type": "execute_result"
    },
    {
     "data": {
      "image/png": "[encoded data removed]",
      "text/plain": [
       "<Figure size 864x504 with 1 Axes>"
      ]
     },
     "metadata": {
      "needs_background": "light"
     },
     "output_type": "display_data"
    }
   ],
   "source": [
    "plt.figure(figsize=(12,7))\n",
    "plt.plot(qs, Cs)\n",
    "plt.xlim((0,1))\n",
    "plt.ylim((0,1))\n",
    "plt.xlabel('$q$',fontsize=14)\n",
    "plt.ylabel('C (bit/channel use)',fontsize=14)"
   ]
  },
  {
   "cell_type": "code",
   "execution_count": 50,
   "metadata": {},
   "outputs": [
    {
     "data": {
      "image/png": "[encoded data removed]",
      "text/plain": [
       "<Figure size 864x504 with 2 Axes>"
      ]
     },
     "metadata": {
      "needs_background": "light"
     },
     "output_type": "display_data"
    }
   ],
   "source": [
    "plt.figure(figsize=(12,7))\n",
    "plt.imshow(pxs.T, extent=[0, qs[-1], -1, 1], aspect='auto', vmin=0.2, vmax=0.8)\n",
    "plt.xlim(0,1)\n",
    "plt.xlabel('$q$',fontsize=14)\n",
    "plt.yticks([-0.5, 0.5], ('$P(X=1)$', '$P(X=0)$'),fontsize=14)\n",
    "plt.colorbar();"
   ]
  }
 ],
 "metadata": {
  "kernelspec": {
   "display_name": "Python 3",
   "language": "python",
   "name": "python3"
  },
  "language_info": {
   "codemirror_mode": {
    "name": "ipython",
    "version": 3
   },
   "file_extension": ".py",
   "mimetype": "text/x-python",
   "name": "python",
   "nbconvert_exporter": "python",
   "pygments_lexer": "ipython3",
   "version": "3.6.9"
  }
 },
 "nbformat": 4,
 "nbformat_minor": 2
}
